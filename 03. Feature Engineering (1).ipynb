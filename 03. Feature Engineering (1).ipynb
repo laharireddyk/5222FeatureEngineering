{
 "cells": [
  {
   "cell_type": "markdown",
   "metadata": {},
   "source": [
    "# Feature Engineering"
   ]
  },
  {
   "cell_type": "markdown",
   "metadata": {},
   "source": [
    "The next step is to create features from the raw text so we can train the machine learning models. The steps followed are:\n",
    "\n",
    "1. **Text Cleaning and Preparation**: cleaning of special characters, downcasing, punctuation signs. possessive pronouns and stop words removal and lemmatization. \n",
    "2. **Label coding**: creation of a dictionary to map each category to a code.\n",
    "3. **Train-test split**: to test the models on unseen data.\n",
    "4. **Text representation**: use of TF-IDF scores to represent text."
   ]
  },
  {
   "cell_type": "code",
   "execution_count": 2,
   "metadata": {},
   "outputs": [],
   "source": [
    "import pickle\n",
    "import pandas as pd\n",
    "import re\n",
    "import nltk\n",
    "from nltk.corpus import stopwords\n",
    "from nltk.stem import WordNetLemmatizer\n",
    "from sklearn.feature_extraction.text import TfidfVectorizer\n",
    "from sklearn.model_selection import train_test_split\n",
    "from sklearn.feature_selection import chi2\n",
    "import numpy as np"
   ]
  },
  {
   "cell_type": "markdown",
   "metadata": {},
   "source": [
    "First of all we'll load the dataset:"
   ]
  },
  {
   "cell_type": "code",
   "execution_count": 3,
   "metadata": {},
   "outputs": [],
   "source": [
    "path_df = \"/Users/keerthanareddy/Downloads/Latest-News-Classifier-master/0. Latest News Classifier/02. Exploratory Data Analysis/News_dataset.pickle12\"\n",
    "\n",
    "with open(path_df, 'rb') as data:\n",
    "    df = pickle.load(data)"
   ]
  },
  {
   "cell_type": "code",
   "execution_count": 4,
   "metadata": {},
   "outputs": [
    {
     "data": {
      "text/html": [
       "<div>\n",
       "<style scoped>\n",
       "    .dataframe tbody tr th:only-of-type {\n",
       "        vertical-align: middle;\n",
       "    }\n",
       "\n",
       "    .dataframe tbody tr th {\n",
       "        vertical-align: top;\n",
       "    }\n",
       "\n",
       "    .dataframe thead th {\n",
       "        text-align: right;\n",
       "    }\n",
       "</style>\n",
       "<table border=\"1\" class=\"dataframe\">\n",
       "  <thead>\n",
       "    <tr style=\"text-align: right;\">\n",
       "      <th></th>\n",
       "      <th>File_Name</th>\n",
       "      <th>Content</th>\n",
       "      <th>Category</th>\n",
       "      <th>Complete_Filename</th>\n",
       "      <th>id</th>\n",
       "      <th>News_length</th>\n",
       "    </tr>\n",
       "  </thead>\n",
       "  <tbody>\n",
       "    <tr>\n",
       "      <th>0</th>\n",
       "      <td>Lahari_Assg1.txt</td>\n",
       "      <td>Ask nine futurists what life will be like in 5...</td>\n",
       "      <td>Alto</td>\n",
       "      <td>Lahari_Assg1.txt-Alto</td>\n",
       "      <td>1</td>\n",
       "      <td>8327</td>\n",
       "    </tr>\n",
       "    <tr>\n",
       "      <th>1</th>\n",
       "      <td>Lahari_Assg2.txt</td>\n",
       "      <td>From ushering in an era of decreased car owner...</td>\n",
       "      <td>Ferrari</td>\n",
       "      <td>Lahari_Assg2.txt-Ferrari</td>\n",
       "      <td>1</td>\n",
       "      <td>21021</td>\n",
       "    </tr>\n",
       "  </tbody>\n",
       "</table>\n",
       "</div>"
      ],
      "text/plain": [
       "          File_Name                                            Content  \\\n",
       "0  Lahari_Assg1.txt  Ask nine futurists what life will be like in 5...   \n",
       "1  Lahari_Assg2.txt  From ushering in an era of decreased car owner...   \n",
       "\n",
       "  Category         Complete_Filename  id  News_length  \n",
       "0     Alto     Lahari_Assg1.txt-Alto   1         8327  \n",
       "1  Ferrari  Lahari_Assg2.txt-Ferrari   1        21021  "
      ]
     },
     "execution_count": 4,
     "metadata": {},
     "output_type": "execute_result"
    }
   ],
   "source": [
    "df.head()"
   ]
  },
  {
   "cell_type": "markdown",
   "metadata": {},
   "source": [
    "And visualize one sample news content:"
   ]
  },
  {
   "cell_type": "code",
   "execution_count": 5,
   "metadata": {},
   "outputs": [
    {
     "data": {
      "text/plain": [
       "'From ushering in an era of decreased car ownership, to narrowing streets and eliminating parking lots, autonomous vehicles promise to dramatically reshape our cities.\\r\\n\\r\\nBut after an Uber-operated self-driving vehicle struck and killed 49-year-old Elaine Herzberg, who was crossing the street with her bike in Tempe, Arizona on March 18, 2018, there are more questions than ever about the safety of this technology, especially as these vehicles are being tested more frequently on public streets.\\r\\n\\r\\nSome argue the safety record for self-driving cars isnâ€™t proven, and that itâ€™s unclear whether or not enough testing miles have been driven in real-life conditions. Other safety advocates go further, and say that driverless cars are introducing a new problem to cities, when cities should instead be focusing on improving transit and encouraging walking and biking instead.\\r\\n\\r\\nContentions aside, the autonomous revolution is already here, although some cities will see its impacts sooner than others. From Las Vegas, where a Navya self-driving minibus scoots slowly along a downtown street, to General Motorsâ€™ Cruise ride-hailing service in San Francisco with backup humans in the driverâ€™s seat, to Waymoâ€™s family-focused Chandler, Arizonaâ€“based pilot program that uses no human operators in its Chrysler Pacifica minivans at all, the country is accelerating towards a driverless future.\\r\\n\\r\\nWhile the U.S. government has historically been confident in autonomous vehiclesâ€™ ability to end the epidemic of traffic deaths on our streets, there are plenty of concerns from opponents of self-driving cars that are making cities think twice before welcoming them to their streets.\\r\\n\\r\\n\\r\\nSelf-driving vehicles may be poised to deliver a future of safer, greener streets for all, but testing the vehicles on todayâ€™s streets is a concern. Farrells and WSP | Parsons Brinckerhoff\\r\\nAre autonomous vehicles safe?\\r\\nIn 2009, Google launched its self-driving project focusing on saving lives and serving people with disabilities. In a 2014 video, Google showed blind and elderly riders climbing into its custom-designed autonomous vehicles, part of the companyâ€™s plan to â€œimprove road safety and help lots of people who canâ€™t drive.â€\\x9d\\r\\n\\r\\nAlthough there were several self-driving projects in the country at the time, many being developed by government agencies or university labs, Googleâ€™s project differentiated itself by being public-facing. The goal was not to build carsâ€”although Google did build its own testing prototypesâ€”but to create a self-driving service that would help regular people get around.\\r\\n\\r\\nGoogle began testing its vehicles on public streets the very same year the project launched. With the reorganization of Google into its new parent company Alphabet, the self-driving program became its own entity, Waymo. Almost a decade later, Waymo remains the clear leader for safe self-driving miles on U.S. streets.\\r\\n\\r\\nAs of November 2019, Waymo had logged 10 million self-driven miles, making it the leader for self-driven miles on U.S. streets. Thatâ€™s double the amount of miles Waymo had driven in February 2018. In July 2018, Waymoâ€™s new electric Jaguar I-Paces vehicle hit the streets, in addition to its Chrysler Pacifica hybrid minivans.\\r\\n\\r\\nAccording to Waymoâ€™s monthly reports, its vehicles have been in dozens of crashes, but caused no serious injuries. In 2016, a Waymo vehicle bumped a bus while going 2 miles per hour. On May 4, 2018, one of Waymoâ€™s minivans was involved in a crash with minor injuries in Chandler, Arizona while in autonomous mode, but police said Waymoâ€™s van was not the â€œviolator vehicle.â€\\x9d In October 2018 a Waymo vehicle was involved in a crash that sent a motorcyclist to the hospital with minor injuries, but the human driver was at fault.\\r\\n\\r\\nNow there are dozens of autonomous vehicle companies testing on U.S. streets, but next most experienced companies, Uber and GM Cruise, are still several million miles behind Waymo. That doesnâ€™t include miles driven in the semi-autonomous modes that many cars now offer, like Teslaâ€™s Autopilot, which are more driver-assistance systems than true self-driving vehicles.\\r\\n\\r\\nIn the last few years, the greatest strides taken in the self-driving industry have been by ride-hailing companies, who are devoting an exceptional amount of time and money to develop their own proprietary technologies and, in many cases, giving members of the public rides in their vehicles. In 2017, Lyftâ€™s CEO predicted that within five years, all their vehicles will be autonomous. At a press conference in March 2018, where Waymoâ€™s CEO John Krafcik announced its ride-hailing program, Krafcik claimed that the company will be making at least one million trips per day by 2020.\\r\\n\\r\\n\\r\\n\\r\\nCan autonomous cars drive better than humans?\\r\\nThe biggest safety advantage to an autonomous vehicle is that a robot is not a humanâ€”it is programmed to obey all the rules of the road, wonâ€™t speed, and canâ€™t be distracted by a text message flickering onto a phone. And, hypothetically at least, AVs can also detect what humans canâ€™tâ€”especially at night or in low-light conditionsâ€”and react more quickly to avoid a collision.\\r\\n\\r\\nAVs are laden with sensors and software that work together to build a complete picture of the road. One key technology for AVs is LIDAR, or a â€œlight-detecting and rangingâ€\\x9d sensor. Using millions of lasers, LIDAR draws a real-time, 3D image of the environment around the vehicle. In addition to LIDAR, radar sensors can measure the size and speed of moving objects. And high-definition cameras can actually read signs and signals. As the car is traveling, it cross-references all this data with GPS technology that situates the vehicle within a city and helps to plan its route.\\r\\n\\r\\nIn addition to the sensors and maps, AVs run software programs which make real-time decisions about how the car will navigate relative to other vehicles, humans, or objects in the road. Engineers can run the cars through simulations, but the software also needs to learn from actual driving situations. This is why real-world testing on public roads is so important.\\r\\n\\r\\nBut how AV companies gather that information has led to greater concerns about how autonomous vehicles can detect and avoid vulnerable road users, like cyclists, and people who move slowly and more erratically through streets, like seniors and children. Waymo, for example, claims its software has been explicitly programmed to recognize cyclists. A video that Waymo released in 2016 (back when it was still part of Google) shows how one of its vehicles detected and stopped for a wrong-way cyclist coming around a corner at night.\\r\\n\\r\\nAccording to a May 2018 report from The Information, Uberâ€™s vehicle did detect Herzberg before its fatal Tempe crash, but the system made a decision not to swerve. â€œThe carâ€™s sensors detected the pedestrian, who was crossing the street with a bicycle, but Uberâ€™s software decided it didnâ€™t need to react right away.â€\\x9d A preliminary report by the National Transportation Safety Board (NTSB) confirmed that not only had Uber disabled the Volvo SUVâ€™s collision-avoidance feature, Uberâ€™s own system detected Herzberg six seconds before the crash and did not brake until 1.3 seconds before impact.\\r\\n\\r\\nHowever, Arizona prosecutors did not charge Uber, writing in a letter that â€œthere is no basis for criminal liability for the Uber corporation arising from this matter.â€\\x9d\\r\\n\\r\\nUberâ€™s self-driving unit Arizona announced it was closing down on May 23, 2018. In July, Uber eliminated 100 self-driving positions in Pittsburgh and San Francisco. Uberâ€™s self-driving program has since returned to Pittsburgh, where it is limiting testing to daylight hours.\\r\\n\\r\\nThe role of human â€œbackup driversâ€\\x9d as part of AV testing has also come into question after Tempe police documents obtained by Gizmodo showed that driver Rafaela Vasquez was streaming a video on her phone at the time of Uberâ€™s fatal crash. â€œThe driver in this case could have reacted and brought the vehicle to a stop 42.61 feet prior to the pedestrian,â€\\x9d reads the report, which calls the crash â€œentirely avoidable.â€\\x9d\\r\\n\\r\\nIn November 2019, the final NTSB report attributed the crash to human error, but placed much of the blame on Vasquez. At the NTSB hearing, board members also criticized the federal government for safety regulations that are too lax.\\r\\n\\r\\nSelf-driving companies also put their vehicles through endless tests using simulated city streets. Many traditional automakers use a facility named M City in Ann Arbor, Michigan, but the larger self-driving companies have built their own fake cities specifically to test interactions with humans who are not in vehicles. Waymoâ€™s fake city, named Castle, even has a shed full of propsâ€”like tricyclesâ€”that might be used by people on streets so that Waymoâ€™s engineers can learn how to identify them.\\r\\n\\r\\nAfter Uberâ€™s fatal crash, Toyota built a new facility to test its vehiclesâ€™ responses to â€œedge casesâ€\\x9dâ€”extreme situations too dangerous to test on public streets.\\r\\n\\r\\n\\r\\nUSDOT has been testing autonomous technology at the M City facility for many years. M City\\r\\nWill eliminating human drivers reduce traffic deaths?\\r\\n50 years ago, the U.S.â€™s rate of traffic deaths was higher than they are nowâ€”in 1980, generally considered to be the deadliest year on U.S. streets, over 50,000 people were killed. With safety features like airbags added to vehicles, stricter seat belt laws, and campaigns that stigmatized drunk driving, the rate of deaths went down significantly.\\r\\n\\r\\nBut over the last few years, the U.S. has seen a slight increase in traffic deaths again. Additionally, pedestrian fatalities increased by 27 percent over the last decade, while all other traffic fatalities decreased by 14 percent. There isnâ€™t agreement for why these deaths are increasing, but some experts believe that this is because Americans are driving moreâ€”overall vehicle-miles traveled (VMT) reached an all-time high in 2017.\\r\\n\\r\\nUsing USDOTâ€™s claim that 94 percent of crashes are caused by human error, it seems like a fairly obvious way to reduce crashes is to reduce the number of humans behind the wheel. But itâ€™s not just the number of human drivers that should be reduced, the U.S. could also reduce the number of cars on roads to prevent fatalitiesâ€”and autonomous vehicles might be able to help do that, too.\\r\\n\\r\\nThe real safety promise of autonomous vehicles is the fact that these vehicles can be be summoned on-demand, routed more efficiently, and easily sharedâ€”meaning not just the overall number of single-passenger cars on streets will decline, but the number of single-passenger trips will be reduced, meaning a reduction in overall miles traveled.\\r\\n\\r\\nIn addition, cities can use automated vehicles to tackle ambitious on-demand transit projects, like a proposed initiative to integrate shared self-driving vehicles into the public transit fleet. If cities can launch these kind of â€œmicrotransitâ€\\x9d systems that serve as a first-mile/last-mile solution to help get more people to fixed-route public transportation, that will also mean fewer people in cars and more people on safer modes of transit. According to a 2016 American Public Transportation Association study, traveling by public transportation is ten times safer per mile than traveling by car.\\r\\n\\r\\nWithout having to make room for so many cars, city streets can be narrowed, making even more room for pedestrians and bikes to safely navigate cities. In this way, autonomous vehicles have a great role to play as part of a Vision Zero strategy, which most major U.S. cities have implemented in order to eliminate traffic deaths.\\r\\n\\r\\n\\r\\nA typical U.S. roadway remade as a safe, accessible street filled with autonomous technology, from shared taxibots to self-driving buses, from NACTOâ€™s Blueprint for Autonomous Urbanism. NACTO\\r\\nBut arenâ€™t human-driven cars safer now, too?\\r\\nWhile residents of only a few cities can summon an AV on-demand right now, the truth is that much of the safety tech powering self-driving cars is making its way into todayâ€™s cars. Sophisticated collision-avoidance systems, for example, which can stop a vehicle if an object or person are detected in its path, are already being incorporated into new cars and buses.\\r\\n\\r\\nThis is why the way the National Highway Traffic Safety Administration (NHTSA) tests those kinds of safety innovations is also changing. Until recently, all safety standards were based on historical crash data, meaning the government had to track years and years of roadway incidents (and, in many cases, deaths) before making an official recommendation.\\r\\n\\r\\nNow, technology is advancing so quickly that thereâ€™s not enough time to test every new idea for a decade. The government knows it needs to be more nimble.\\r\\n\\r\\nIn fact, thatâ€™s what happened for a recent USDOT recommendation that all cars be equipped with vehicle-to-vehicle communication (V2V), a tool which allows cars to â€œtalkâ€\\x9d to each other. This recommendation was fast-tracked in 2015 by U.S. transportation secretary Anthony Foxx after detailed simulations and modeling showed that the benefits were obviousâ€”there was no need to spend years collecting historical data.\\r\\n\\r\\nThe same type of recommendation might be made for an aspect of autonomous tech. Once a clear safety benefit has been proven across the self-driving industry, a specific feature might become standard on all vehicles.\\r\\n\\r\\n\\r\\nAn 8-person autonomous shuttle by Navya travels a route at a speed of 15 mph in Downtown Las Vegas. Keolis\\r\\nWhere are self-driving cars being tested?\\r\\nAbout half of U.S. states allow testing of autonomous vehicles on public roads, but regulations for each state vary widely. The majority of testing is focused in a handful of states: Arizona, California, Georgia, Michigan, Nevada, Texas, Pennsylvania, and Washington.\\r\\n\\r\\nCalifornia remains the busiest hub for the AV industry: There are currently 52 companies testing self-driving technology on the stateâ€™s streets. Itâ€™s also one of the most heavily regulated markets: Californiaâ€™s Department of Motor Vehicles requires companies to file for a permit and submit annual reports that include the number of miles driven and any crashes.\\r\\n\\r\\nWhile itâ€™s not necessarily used as a safety metric, one performance standard that helps to illustrate how technology is improving is tracking the number of times per self-driving mile that a human driver has to take over, which is called a â€œdisengagement.â€\\x9d California DMV records demonstrate that as self-driving programs log more on-road experience, they see fewer and fewer disengagements.\\r\\n\\r\\nOther states donâ€™t require as much documentation as Californiaâ€”and theyâ€™re not necessarily required to make any information public. Arizona, for example, approved AV testing on public roads in 2016 without notifying its residents, and didnâ€™t require any reports from companies, although after Uberâ€™s fatal crash, that has changed.\\r\\n\\r\\nUber Self-Driving Car\\r\\nHills, snow, quirky local driving customs, and loose state regulations are some of the reasons Uber started testing its self-driving program in Pittsburgh. AP Photo/Jared Wickerham\\r\\nDoes the federal government regulate autonomous vehicles?\\r\\nIn 2016, the U.S. government released its long-awaited rules on self-driving vehicles. The Department of Transportationâ€™s 116-page document lists many benefits for bringing technology to market, among them improved sustainability, productivity, and accessibility. But the USDOT reportâ€™s central promise is that autonomy will pave the way for policies that dramatically improve road safety.\\r\\n\\r\\nEven President Obama made the case for safety in an op-ed that heralded the dawn of the new driverless age:\\r\\n\\r\\nRight now, too many people die on our roadsâ€”35,200 last year aloneâ€”with 94 percent of those the result of human error or choice. Automated vehicles have the potential to save tens of thousands of lives each year. And right now, for too many senior citizens and Americans with disabilities, driving isnâ€™t an option. Automated vehicles could change their lives.\\r\\n\\r\\nIn order to get cities across the country to start thinking about using autonomy to solve transportation problems, USDOT hosted the Smart City Challenge in 2016, which awarded $40 million to Columbus, Ohio, to develop a fleet of autonomous transit vehicles. As a result of the challenge, the 70 cities that competed now have blueprints for how to introduce AV tech to their transportation planning.\\r\\n\\r\\nUnder the Trump administration, much of the legislation proposed has been centered around exemptions for automakers and increasing the number of AVs allowed to operate on U.S. streets. In fact, in September 2017, USDOT and NHTSA issued updated AV guidelines, which carried an even lighter regulatory touch, after industry leaders expressed concerns about regulation at the federal level stifling innovation.\\r\\n\\r\\nIn addition to the 2017 policy statement, Transportation Secretary Elaine Chao held preliminary hearings about autonomous vehicles where she affirmed the government would not play a heavy-handed role. â€œThe market will decide what is the most effective solution,â€\\x9d she said. However, the aggressive development of V2Vâ€”which experts agree can work to make human-driven cars much safer as autonomous technology comes to marketâ€”has not been made a priority during her leadership.\\r\\n\\r\\nOn October 4, 2018, USDOT announced new guidelines to guide development and deployment of AVs, including the possibility that the department would change its safety standard rules to allow new types of autonomous vehicles to operate on U.S. roads. This would mean potentially making exemptions for automakers to produce vehicles without human-centered operating features like steering wheels.\\r\\n\\r\\nChao also addressed the fact that public acceptance was a key element for autonomous vehicle adoption. â€œCompanies need to step up and address the publicâ€™s concerns about safety,â€\\x9d she said. â€œBecause without public acceptance, the full potential of these technologies may never be realized.â€\\x9d\\r\\n\\r\\nUSDOTâ€™s lack of regulation was called out as â€œlaughableâ€\\x9d by NTSB board member Jennifer Homendy during the November 2019 hearings about Uberâ€™s fatal crash. â€œI actually think that there is a major failing on the federal governmentâ€™s part and the state of Arizona, because they also didnâ€™t have any standards in place and still donâ€™t, for failing to regulate these operations,â€\\x9d she said.\\r\\n\\r\\nIn a speech at the Consumer Electronics Show on January 8, 2020, Chao announced AV 4.0, a new set of voluntary guidelines which reconfirms the federal governmentâ€™s hands-off approach to AV regulation.\\r\\n\\r\\nThe plan was quickly panned by safety advocates, including Cathy Chase, president of Advocates for Highway and Auto Safety, who cited Uberâ€™s fatal crash, among others, in a statement denouncing AV 4.0. â€œDespite these disturbing incidents, the agency tasked with ensuring public safety on our roadways has abrogated their responsibility to issue rules requiring minimum performance standards for AVs.â€\\x9d\\r\\n\\r\\n\\r\\nTeslaâ€™s Autopilot feature, one of many driver-assist features which allow control of the vehicle to switch from human to computer, can distract drivers or give them a false sense of security. The Verge\\r\\nWhatâ€™s the difference between semi-autonomous and fully autonomous?\\r\\nThereâ€™s one safety debate that continues to divide the self-driving industry: Some automakers are still pushing for versions of vehicles which allow control to pass from human to computer, offering drivers the ability to toggle between semi-autonomous and fully autonomous modes.\\r\\n\\r\\nTwo fatal Tesla crashesâ€”one in 2016 and one in 2018â€”that occurred while the drivers were using the vehicleâ€™s Autopilot feature illustrated the dangers of a semi-autonomous mode. As the National Transportation Safety Board (NTSB) noted in its report of the 2016 crash, semi-autonomous systems give â€œfar more leeway to the driver to divert his attention to something other than driving.â€\\x9d\\r\\n\\r\\nFully autonomous is the official policy recommendation from the Self-Driving Coalition for Safer Streets, a lobbying group that wants cars to eventually phase out steering wheels and let the software take over, 100 percent of the time. This completely eliminates the potential for human error.\\r\\n\\r\\nIn 2018, Waymo began conducting fully autonomous testing in Arizona without a human safety driver, and in 2019, began transporting passengers in fully autonomous vehicles. California now allows fully autonomous testing as well, but without passengers for now.\\r\\n\\r\\nEspecially after the Uber crash, San Francisco bike advocates worry that the tech isnâ€™t powerful enough to see cyclists. The California Bicycle Coalition started a petition to stop fully autonomous vehicles from being tested on California streets.\\r\\n'"
      ]
     },
     "execution_count": 5,
     "metadata": {},
     "output_type": "execute_result"
    }
   ],
   "source": [
    "df.loc[1]['Content']"
   ]
  },
  {
   "cell_type": "markdown",
   "metadata": {},
   "source": [
    "## 1. Text cleaning and preparation"
   ]
  },
  {
   "cell_type": "markdown",
   "metadata": {},
   "source": [
    "### 1.1. Special character cleaning\n",
    "\n",
    "We can see the following special characters:\n",
    "\n",
    "* ``\\r``\n",
    "* ``\\n``\n",
    "* ``\\`` before possessive pronouns (`government's = government\\'s`)\n",
    "* ``\\`` before possessive pronouns 2 (`Yukos'` = `Yukos\\'`)\n",
    "* ``\"`` when quoting text"
   ]
  },
  {
   "cell_type": "code",
   "execution_count": 6,
   "metadata": {},
   "outputs": [],
   "source": [
    "# \\r and \\n\n",
    "df['Content_Parsed_1'] = df['Content'].str.replace(\"\\r\", \" \")\n",
    "df['Content_Parsed_1'] = df['Content_Parsed_1'].str.replace(\"\\n\", \" \")\n",
    "df['Content_Parsed_1'] = df['Content_Parsed_1'].str.replace(\"    \", \" \")"
   ]
  },
  {
   "cell_type": "markdown",
   "metadata": {},
   "source": [
    "Regarding 3rd and 4th bullet, although it seems there is a special character, it won't affect us since it is not a *real* character:"
   ]
  },
  {
   "cell_type": "code",
   "execution_count": 7,
   "metadata": {},
   "outputs": [
    {
     "data": {
      "text/plain": [
       "\"Mr Greenspan's\""
      ]
     },
     "execution_count": 7,
     "metadata": {},
     "output_type": "execute_result"
    }
   ],
   "source": [
    "text = \"Mr Greenspan\\'s\"\n",
    "text"
   ]
  },
  {
   "cell_type": "code",
   "execution_count": 9,
   "metadata": {},
   "outputs": [],
   "source": [
    "# \" when quoting text\n",
    "df['Content_Parsed_1'] = df['Content_Parsed_1'].str.replace('\"', '')"
   ]
  },
  {
   "cell_type": "markdown",
   "metadata": {},
   "source": [
    "### 1.2. Upcase/downcase"
   ]
  },
  {
   "cell_type": "markdown",
   "metadata": {},
   "source": [
    "We'll downcase the texts because we want, for example, `Football` and `football` to be the same word."
   ]
  },
  {
   "cell_type": "code",
   "execution_count": 10,
   "metadata": {},
   "outputs": [],
   "source": [
    "# Lowercasing the text\n",
    "df['Content_Parsed_2'] = df['Content_Parsed_1'].str.lower()"
   ]
  },
  {
   "cell_type": "markdown",
   "metadata": {},
   "source": [
    "### 1.3. Punctuation signs"
   ]
  },
  {
   "cell_type": "markdown",
   "metadata": {},
   "source": [
    "Punctuation signs won't have any predicting power, so we'll just get rid of them."
   ]
  },
  {
   "cell_type": "code",
   "execution_count": 11,
   "metadata": {},
   "outputs": [
    {
     "name": "stderr",
     "output_type": "stream",
     "text": [
      "/var/folders/wx/mft315nd3gl_lnvrcrcphywr0000gn/T/ipykernel_14604/1781969415.py:5: FutureWarning: The default value of regex will change from True to False in a future version. In addition, single character regular expressions will *not* be treated as literal strings when regex=True.\n",
      "  df['Content_Parsed_3'] = df['Content_Parsed_3'].str.replace(punct_sign, '')\n"
     ]
    }
   ],
   "source": [
    "punctuation_signs = list(\"?:!.,;\")\n",
    "df['Content_Parsed_3'] = df['Content_Parsed_2']\n",
    "\n",
    "for punct_sign in punctuation_signs:\n",
    "    df['Content_Parsed_3'] = df['Content_Parsed_3'].str.replace(punct_sign, '')"
   ]
  },
  {
   "cell_type": "markdown",
   "metadata": {},
   "source": [
    "By doing this we are messing up with some numbers, but it's no problem since we aren't expecting any predicting power from them."
   ]
  },
  {
   "cell_type": "markdown",
   "metadata": {},
   "source": [
    "### 1.4. Possessive pronouns"
   ]
  },
  {
   "cell_type": "markdown",
   "metadata": {},
   "source": [
    "We'll also remove possessive pronoun terminations:"
   ]
  },
  {
   "cell_type": "code",
   "execution_count": 12,
   "metadata": {},
   "outputs": [],
   "source": [
    "df['Content_Parsed_4'] = df['Content_Parsed_3'].str.replace(\"'s\", \"\")"
   ]
  },
  {
   "cell_type": "markdown",
   "metadata": {},
   "source": [
    "### 1.5. Stemming and Lemmatization\n",
    "\n",
    "Since stemming can produce output words that don't exist, we'll only use a lemmatization process at this moment. Lemmatization takes into consideration the morphological analysis of the words and returns words that do exist, so it will be more useful for us."
   ]
  },
  {
   "cell_type": "code",
   "execution_count": 13,
   "metadata": {},
   "outputs": [
    {
     "name": "stdout",
     "output_type": "stream",
     "text": [
      "------------------------------------------------------------\n"
     ]
    },
    {
     "name": "stderr",
     "output_type": "stream",
     "text": [
      "[nltk_data] Downloading package punkt to\n",
      "[nltk_data]     /Users/keerthanareddy/nltk_data...\n",
      "[nltk_data]   Package punkt is already up-to-date!\n",
      "[nltk_data] Downloading package wordnet to\n",
      "[nltk_data]     /Users/keerthanareddy/nltk_data...\n",
      "[nltk_data]   Package wordnet is already up-to-date!\n"
     ]
    },
    {
     "data": {
      "text/plain": [
       "True"
      ]
     },
     "execution_count": 13,
     "metadata": {},
     "output_type": "execute_result"
    }
   ],
   "source": [
    "# Downloading punkt and wordnet from NLTK\n",
    "nltk.download('punkt')\n",
    "print(\"------------------------------------------------------------\")\n",
    "nltk.download('wordnet')"
   ]
  },
  {
   "cell_type": "code",
   "execution_count": 14,
   "metadata": {},
   "outputs": [],
   "source": [
    "# Saving the lemmatizer into an object\n",
    "wordnet_lemmatizer = WordNetLemmatizer()"
   ]
  },
  {
   "cell_type": "markdown",
   "metadata": {},
   "source": [
    "In order to lemmatize, we have to iterate through every word:"
   ]
  },
  {
   "cell_type": "code",
   "execution_count": 15,
   "metadata": {},
   "outputs": [],
   "source": [
    "nrows = len(df)\n",
    "lemmatized_text_list = []\n",
    "\n",
    "for row in range(0, nrows):\n",
    "    \n",
    "    # Create an empty list containing lemmatized words\n",
    "    lemmatized_list = []\n",
    "    \n",
    "    # Save the text and its words into an object\n",
    "    text = df.loc[row]['Content_Parsed_4']\n",
    "    text_words = str(text).split(\" \")\n",
    "\n",
    "    # Iterate through every word to lemmatize\n",
    "    for word in text_words:\n",
    "        lemmatized_list.append(wordnet_lemmatizer.lemmatize(word, pos=\"v\"))\n",
    "        \n",
    "    # Join the list\n",
    "    lemmatized_text = \" \".join(lemmatized_list)\n",
    "    \n",
    "    # Append to the list containing the texts\n",
    "    lemmatized_text_list.append(lemmatized_text)"
   ]
  },
  {
   "cell_type": "code",
   "execution_count": 16,
   "metadata": {},
   "outputs": [],
   "source": [
    "df['Content_Parsed_5'] = lemmatized_text_list"
   ]
  },
  {
   "cell_type": "markdown",
   "metadata": {},
   "source": [
    "Although lemmatization doesn't work perfectly in all cases (as can be seen in the example below), it can be useful."
   ]
  },
  {
   "cell_type": "markdown",
   "metadata": {},
   "source": [
    "### 1.6. Stop words"
   ]
  },
  {
   "cell_type": "code",
   "execution_count": 17,
   "metadata": {},
   "outputs": [
    {
     "name": "stderr",
     "output_type": "stream",
     "text": [
      "[nltk_data] Downloading package stopwords to\n",
      "[nltk_data]     /Users/keerthanareddy/nltk_data...\n",
      "[nltk_data]   Package stopwords is already up-to-date!\n"
     ]
    },
    {
     "data": {
      "text/plain": [
       "True"
      ]
     },
     "execution_count": 17,
     "metadata": {},
     "output_type": "execute_result"
    }
   ],
   "source": [
    "# Downloading the stop words list\n",
    "nltk.download('stopwords')"
   ]
  },
  {
   "cell_type": "code",
   "execution_count": 18,
   "metadata": {},
   "outputs": [],
   "source": [
    "# Loading the stop words in english\n",
    "stop_words = list(stopwords.words('english'))"
   ]
  },
  {
   "cell_type": "code",
   "execution_count": 19,
   "metadata": {},
   "outputs": [
    {
     "data": {
      "text/plain": [
       "['i', 'me', 'my', 'myself', 'we', 'our', 'ours', 'ourselves', 'you', \"you're\"]"
      ]
     },
     "execution_count": 19,
     "metadata": {},
     "output_type": "execute_result"
    }
   ],
   "source": [
    "stop_words[0:10]"
   ]
  },
  {
   "cell_type": "markdown",
   "metadata": {},
   "source": [
    "To remove the stop words, we'll handle a regular expression only detecting whole words, as seen in the following example:"
   ]
  },
  {
   "cell_type": "code",
   "execution_count": 20,
   "metadata": {
    "scrolled": true
   },
   "outputs": [
    {
     "data": {
      "text/plain": [
       "'StopWord eating a meal'"
      ]
     },
     "execution_count": 20,
     "metadata": {},
     "output_type": "execute_result"
    }
   ],
   "source": [
    "example = \"me eating a meal\"\n",
    "word = \"me\"\n",
    "\n",
    "# The regular expression is:\n",
    "regex = r\"\\b\" + word + r\"\\b\"  # we need to build it like that to work properly\n",
    "\n",
    "re.sub(regex, \"StopWord\", example)"
   ]
  },
  {
   "cell_type": "markdown",
   "metadata": {},
   "source": [
    "We can now loop through all the stop words:"
   ]
  },
  {
   "cell_type": "code",
   "execution_count": 21,
   "metadata": {},
   "outputs": [
    {
     "name": "stderr",
     "output_type": "stream",
     "text": [
      "/var/folders/wx/mft315nd3gl_lnvrcrcphywr0000gn/T/ipykernel_14604/3814005232.py:6: FutureWarning: The default value of regex will change from True to False in a future version.\n",
      "  df['Content_Parsed_6'] = df['Content_Parsed_6'].str.replace(regex_stopword, '')\n"
     ]
    }
   ],
   "source": [
    "df['Content_Parsed_6'] = df['Content_Parsed_5']\n",
    "\n",
    "for stop_word in stop_words:\n",
    "\n",
    "    regex_stopword = r\"\\b\" + stop_word + r\"\\b\"\n",
    "    df['Content_Parsed_6'] = df['Content_Parsed_6'].str.replace(regex_stopword, '')"
   ]
  },
  {
   "cell_type": "markdown",
   "metadata": {},
   "source": [
    "We have some dobule/triple spaces between words because of the replacements. However, it's not a problem because we'll tokenize by the spaces later."
   ]
  },
  {
   "cell_type": "markdown",
   "metadata": {},
   "source": [
    "As an example, we'll show an original news article and its modifications throughout the process:"
   ]
  },
  {
   "cell_type": "code",
   "execution_count": 23,
   "metadata": {},
   "outputs": [
    {
     "data": {
      "text/plain": [
       "'From ushering in an era of decreased car ownership, to narrowing streets and eliminating parking lots, autonomous vehicles promise to dramatically reshape our cities.\\r\\n\\r\\nBut after an Uber-operated self-driving vehicle struck and killed 49-year-old Elaine Herzberg, who was crossing the street with her bike in Tempe, Arizona on March 18, 2018, there are more questions than ever about the safety of this technology, especially as these vehicles are being tested more frequently on public streets.\\r\\n\\r\\nSome argue the safety record for self-driving cars isnâ€™t proven, and that itâ€™s unclear whether or not enough testing miles have been driven in real-life conditions. Other safety advocates go further, and say that driverless cars are introducing a new problem to cities, when cities should instead be focusing on improving transit and encouraging walking and biking instead.\\r\\n\\r\\nContentions aside, the autonomous revolution is already here, although some cities will see its impacts sooner than others. From Las Vegas, where a Navya self-driving minibus scoots slowly along a downtown street, to General Motorsâ€™ Cruise ride-hailing service in San Francisco with backup humans in the driverâ€™s seat, to Waymoâ€™s family-focused Chandler, Arizonaâ€“based pilot program that uses no human operators in its Chrysler Pacifica minivans at all, the country is accelerating towards a driverless future.\\r\\n\\r\\nWhile the U.S. government has historically been confident in autonomous vehiclesâ€™ ability to end the epidemic of traffic deaths on our streets, there are plenty of concerns from opponents of self-driving cars that are making cities think twice before welcoming them to their streets.\\r\\n\\r\\n\\r\\nSelf-driving vehicles may be poised to deliver a future of safer, greener streets for all, but testing the vehicles on todayâ€™s streets is a concern. Farrells and WSP | Parsons Brinckerhoff\\r\\nAre autonomous vehicles safe?\\r\\nIn 2009, Google launched its self-driving project focusing on saving lives and serving people with disabilities. In a 2014 video, Google showed blind and elderly riders climbing into its custom-designed autonomous vehicles, part of the companyâ€™s plan to â€œimprove road safety and help lots of people who canâ€™t drive.â€\\x9d\\r\\n\\r\\nAlthough there were several self-driving projects in the country at the time, many being developed by government agencies or university labs, Googleâ€™s project differentiated itself by being public-facing. The goal was not to build carsâ€”although Google did build its own testing prototypesâ€”but to create a self-driving service that would help regular people get around.\\r\\n\\r\\nGoogle began testing its vehicles on public streets the very same year the project launched. With the reorganization of Google into its new parent company Alphabet, the self-driving program became its own entity, Waymo. Almost a decade later, Waymo remains the clear leader for safe self-driving miles on U.S. streets.\\r\\n\\r\\nAs of November 2019, Waymo had logged 10 million self-driven miles, making it the leader for self-driven miles on U.S. streets. Thatâ€™s double the amount of miles Waymo had driven in February 2018. In July 2018, Waymoâ€™s new electric Jaguar I-Paces vehicle hit the streets, in addition to its Chrysler Pacifica hybrid minivans.\\r\\n\\r\\nAccording to Waymoâ€™s monthly reports, its vehicles have been in dozens of crashes, but caused no serious injuries. In 2016, a Waymo vehicle bumped a bus while going 2 miles per hour. On May 4, 2018, one of Waymoâ€™s minivans was involved in a crash with minor injuries in Chandler, Arizona while in autonomous mode, but police said Waymoâ€™s van was not the â€œviolator vehicle.â€\\x9d In October 2018 a Waymo vehicle was involved in a crash that sent a motorcyclist to the hospital with minor injuries, but the human driver was at fault.\\r\\n\\r\\nNow there are dozens of autonomous vehicle companies testing on U.S. streets, but next most experienced companies, Uber and GM Cruise, are still several million miles behind Waymo. That doesnâ€™t include miles driven in the semi-autonomous modes that many cars now offer, like Teslaâ€™s Autopilot, which are more driver-assistance systems than true self-driving vehicles.\\r\\n\\r\\nIn the last few years, the greatest strides taken in the self-driving industry have been by ride-hailing companies, who are devoting an exceptional amount of time and money to develop their own proprietary technologies and, in many cases, giving members of the public rides in their vehicles. In 2017, Lyftâ€™s CEO predicted that within five years, all their vehicles will be autonomous. At a press conference in March 2018, where Waymoâ€™s CEO John Krafcik announced its ride-hailing program, Krafcik claimed that the company will be making at least one million trips per day by 2020.\\r\\n\\r\\n\\r\\n\\r\\nCan autonomous cars drive better than humans?\\r\\nThe biggest safety advantage to an autonomous vehicle is that a robot is not a humanâ€”it is programmed to obey all the rules of the road, wonâ€™t speed, and canâ€™t be distracted by a text message flickering onto a phone. And, hypothetically at least, AVs can also detect what humans canâ€™tâ€”especially at night or in low-light conditionsâ€”and react more quickly to avoid a collision.\\r\\n\\r\\nAVs are laden with sensors and software that work together to build a complete picture of the road. One key technology for AVs is LIDAR, or a â€œlight-detecting and rangingâ€\\x9d sensor. Using millions of lasers, LIDAR draws a real-time, 3D image of the environment around the vehicle. In addition to LIDAR, radar sensors can measure the size and speed of moving objects. And high-definition cameras can actually read signs and signals. As the car is traveling, it cross-references all this data with GPS technology that situates the vehicle within a city and helps to plan its route.\\r\\n\\r\\nIn addition to the sensors and maps, AVs run software programs which make real-time decisions about how the car will navigate relative to other vehicles, humans, or objects in the road. Engineers can run the cars through simulations, but the software also needs to learn from actual driving situations. This is why real-world testing on public roads is so important.\\r\\n\\r\\nBut how AV companies gather that information has led to greater concerns about how autonomous vehicles can detect and avoid vulnerable road users, like cyclists, and people who move slowly and more erratically through streets, like seniors and children. Waymo, for example, claims its software has been explicitly programmed to recognize cyclists. A video that Waymo released in 2016 (back when it was still part of Google) shows how one of its vehicles detected and stopped for a wrong-way cyclist coming around a corner at night.\\r\\n\\r\\nAccording to a May 2018 report from The Information, Uberâ€™s vehicle did detect Herzberg before its fatal Tempe crash, but the system made a decision not to swerve. â€œThe carâ€™s sensors detected the pedestrian, who was crossing the street with a bicycle, but Uberâ€™s software decided it didnâ€™t need to react right away.â€\\x9d A preliminary report by the National Transportation Safety Board (NTSB) confirmed that not only had Uber disabled the Volvo SUVâ€™s collision-avoidance feature, Uberâ€™s own system detected Herzberg six seconds before the crash and did not brake until 1.3 seconds before impact.\\r\\n\\r\\nHowever, Arizona prosecutors did not charge Uber, writing in a letter that â€œthere is no basis for criminal liability for the Uber corporation arising from this matter.â€\\x9d\\r\\n\\r\\nUberâ€™s self-driving unit Arizona announced it was closing down on May 23, 2018. In July, Uber eliminated 100 self-driving positions in Pittsburgh and San Francisco. Uberâ€™s self-driving program has since returned to Pittsburgh, where it is limiting testing to daylight hours.\\r\\n\\r\\nThe role of human â€œbackup driversâ€\\x9d as part of AV testing has also come into question after Tempe police documents obtained by Gizmodo showed that driver Rafaela Vasquez was streaming a video on her phone at the time of Uberâ€™s fatal crash. â€œThe driver in this case could have reacted and brought the vehicle to a stop 42.61 feet prior to the pedestrian,â€\\x9d reads the report, which calls the crash â€œentirely avoidable.â€\\x9d\\r\\n\\r\\nIn November 2019, the final NTSB report attributed the crash to human error, but placed much of the blame on Vasquez. At the NTSB hearing, board members also criticized the federal government for safety regulations that are too lax.\\r\\n\\r\\nSelf-driving companies also put their vehicles through endless tests using simulated city streets. Many traditional automakers use a facility named M City in Ann Arbor, Michigan, but the larger self-driving companies have built their own fake cities specifically to test interactions with humans who are not in vehicles. Waymoâ€™s fake city, named Castle, even has a shed full of propsâ€”like tricyclesâ€”that might be used by people on streets so that Waymoâ€™s engineers can learn how to identify them.\\r\\n\\r\\nAfter Uberâ€™s fatal crash, Toyota built a new facility to test its vehiclesâ€™ responses to â€œedge casesâ€\\x9dâ€”extreme situations too dangerous to test on public streets.\\r\\n\\r\\n\\r\\nUSDOT has been testing autonomous technology at the M City facility for many years. M City\\r\\nWill eliminating human drivers reduce traffic deaths?\\r\\n50 years ago, the U.S.â€™s rate of traffic deaths was higher than they are nowâ€”in 1980, generally considered to be the deadliest year on U.S. streets, over 50,000 people were killed. With safety features like airbags added to vehicles, stricter seat belt laws, and campaigns that stigmatized drunk driving, the rate of deaths went down significantly.\\r\\n\\r\\nBut over the last few years, the U.S. has seen a slight increase in traffic deaths again. Additionally, pedestrian fatalities increased by 27 percent over the last decade, while all other traffic fatalities decreased by 14 percent. There isnâ€™t agreement for why these deaths are increasing, but some experts believe that this is because Americans are driving moreâ€”overall vehicle-miles traveled (VMT) reached an all-time high in 2017.\\r\\n\\r\\nUsing USDOTâ€™s claim that 94 percent of crashes are caused by human error, it seems like a fairly obvious way to reduce crashes is to reduce the number of humans behind the wheel. But itâ€™s not just the number of human drivers that should be reduced, the U.S. could also reduce the number of cars on roads to prevent fatalitiesâ€”and autonomous vehicles might be able to help do that, too.\\r\\n\\r\\nThe real safety promise of autonomous vehicles is the fact that these vehicles can be be summoned on-demand, routed more efficiently, and easily sharedâ€”meaning not just the overall number of single-passenger cars on streets will decline, but the number of single-passenger trips will be reduced, meaning a reduction in overall miles traveled.\\r\\n\\r\\nIn addition, cities can use automated vehicles to tackle ambitious on-demand transit projects, like a proposed initiative to integrate shared self-driving vehicles into the public transit fleet. If cities can launch these kind of â€œmicrotransitâ€\\x9d systems that serve as a first-mile/last-mile solution to help get more people to fixed-route public transportation, that will also mean fewer people in cars and more people on safer modes of transit. According to a 2016 American Public Transportation Association study, traveling by public transportation is ten times safer per mile than traveling by car.\\r\\n\\r\\nWithout having to make room for so many cars, city streets can be narrowed, making even more room for pedestrians and bikes to safely navigate cities. In this way, autonomous vehicles have a great role to play as part of a Vision Zero strategy, which most major U.S. cities have implemented in order to eliminate traffic deaths.\\r\\n\\r\\n\\r\\nA typical U.S. roadway remade as a safe, accessible street filled with autonomous technology, from shared taxibots to self-driving buses, from NACTOâ€™s Blueprint for Autonomous Urbanism. NACTO\\r\\nBut arenâ€™t human-driven cars safer now, too?\\r\\nWhile residents of only a few cities can summon an AV on-demand right now, the truth is that much of the safety tech powering self-driving cars is making its way into todayâ€™s cars. Sophisticated collision-avoidance systems, for example, which can stop a vehicle if an object or person are detected in its path, are already being incorporated into new cars and buses.\\r\\n\\r\\nThis is why the way the National Highway Traffic Safety Administration (NHTSA) tests those kinds of safety innovations is also changing. Until recently, all safety standards were based on historical crash data, meaning the government had to track years and years of roadway incidents (and, in many cases, deaths) before making an official recommendation.\\r\\n\\r\\nNow, technology is advancing so quickly that thereâ€™s not enough time to test every new idea for a decade. The government knows it needs to be more nimble.\\r\\n\\r\\nIn fact, thatâ€™s what happened for a recent USDOT recommendation that all cars be equipped with vehicle-to-vehicle communication (V2V), a tool which allows cars to â€œtalkâ€\\x9d to each other. This recommendation was fast-tracked in 2015 by U.S. transportation secretary Anthony Foxx after detailed simulations and modeling showed that the benefits were obviousâ€”there was no need to spend years collecting historical data.\\r\\n\\r\\nThe same type of recommendation might be made for an aspect of autonomous tech. Once a clear safety benefit has been proven across the self-driving industry, a specific feature might become standard on all vehicles.\\r\\n\\r\\n\\r\\nAn 8-person autonomous shuttle by Navya travels a route at a speed of 15 mph in Downtown Las Vegas. Keolis\\r\\nWhere are self-driving cars being tested?\\r\\nAbout half of U.S. states allow testing of autonomous vehicles on public roads, but regulations for each state vary widely. The majority of testing is focused in a handful of states: Arizona, California, Georgia, Michigan, Nevada, Texas, Pennsylvania, and Washington.\\r\\n\\r\\nCalifornia remains the busiest hub for the AV industry: There are currently 52 companies testing self-driving technology on the stateâ€™s streets. Itâ€™s also one of the most heavily regulated markets: Californiaâ€™s Department of Motor Vehicles requires companies to file for a permit and submit annual reports that include the number of miles driven and any crashes.\\r\\n\\r\\nWhile itâ€™s not necessarily used as a safety metric, one performance standard that helps to illustrate how technology is improving is tracking the number of times per self-driving mile that a human driver has to take over, which is called a â€œdisengagement.â€\\x9d California DMV records demonstrate that as self-driving programs log more on-road experience, they see fewer and fewer disengagements.\\r\\n\\r\\nOther states donâ€™t require as much documentation as Californiaâ€”and theyâ€™re not necessarily required to make any information public. Arizona, for example, approved AV testing on public roads in 2016 without notifying its residents, and didnâ€™t require any reports from companies, although after Uberâ€™s fatal crash, that has changed.\\r\\n\\r\\nUber Self-Driving Car\\r\\nHills, snow, quirky local driving customs, and loose state regulations are some of the reasons Uber started testing its self-driving program in Pittsburgh. AP Photo/Jared Wickerham\\r\\nDoes the federal government regulate autonomous vehicles?\\r\\nIn 2016, the U.S. government released its long-awaited rules on self-driving vehicles. The Department of Transportationâ€™s 116-page document lists many benefits for bringing technology to market, among them improved sustainability, productivity, and accessibility. But the USDOT reportâ€™s central promise is that autonomy will pave the way for policies that dramatically improve road safety.\\r\\n\\r\\nEven President Obama made the case for safety in an op-ed that heralded the dawn of the new driverless age:\\r\\n\\r\\nRight now, too many people die on our roadsâ€”35,200 last year aloneâ€”with 94 percent of those the result of human error or choice. Automated vehicles have the potential to save tens of thousands of lives each year. And right now, for too many senior citizens and Americans with disabilities, driving isnâ€™t an option. Automated vehicles could change their lives.\\r\\n\\r\\nIn order to get cities across the country to start thinking about using autonomy to solve transportation problems, USDOT hosted the Smart City Challenge in 2016, which awarded $40 million to Columbus, Ohio, to develop a fleet of autonomous transit vehicles. As a result of the challenge, the 70 cities that competed now have blueprints for how to introduce AV tech to their transportation planning.\\r\\n\\r\\nUnder the Trump administration, much of the legislation proposed has been centered around exemptions for automakers and increasing the number of AVs allowed to operate on U.S. streets. In fact, in September 2017, USDOT and NHTSA issued updated AV guidelines, which carried an even lighter regulatory touch, after industry leaders expressed concerns about regulation at the federal level stifling innovation.\\r\\n\\r\\nIn addition to the 2017 policy statement, Transportation Secretary Elaine Chao held preliminary hearings about autonomous vehicles where she affirmed the government would not play a heavy-handed role. â€œThe market will decide what is the most effective solution,â€\\x9d she said. However, the aggressive development of V2Vâ€”which experts agree can work to make human-driven cars much safer as autonomous technology comes to marketâ€”has not been made a priority during her leadership.\\r\\n\\r\\nOn October 4, 2018, USDOT announced new guidelines to guide development and deployment of AVs, including the possibility that the department would change its safety standard rules to allow new types of autonomous vehicles to operate on U.S. roads. This would mean potentially making exemptions for automakers to produce vehicles without human-centered operating features like steering wheels.\\r\\n\\r\\nChao also addressed the fact that public acceptance was a key element for autonomous vehicle adoption. â€œCompanies need to step up and address the publicâ€™s concerns about safety,â€\\x9d she said. â€œBecause without public acceptance, the full potential of these technologies may never be realized.â€\\x9d\\r\\n\\r\\nUSDOTâ€™s lack of regulation was called out as â€œlaughableâ€\\x9d by NTSB board member Jennifer Homendy during the November 2019 hearings about Uberâ€™s fatal crash. â€œI actually think that there is a major failing on the federal governmentâ€™s part and the state of Arizona, because they also didnâ€™t have any standards in place and still donâ€™t, for failing to regulate these operations,â€\\x9d she said.\\r\\n\\r\\nIn a speech at the Consumer Electronics Show on January 8, 2020, Chao announced AV 4.0, a new set of voluntary guidelines which reconfirms the federal governmentâ€™s hands-off approach to AV regulation.\\r\\n\\r\\nThe plan was quickly panned by safety advocates, including Cathy Chase, president of Advocates for Highway and Auto Safety, who cited Uberâ€™s fatal crash, among others, in a statement denouncing AV 4.0. â€œDespite these disturbing incidents, the agency tasked with ensuring public safety on our roadways has abrogated their responsibility to issue rules requiring minimum performance standards for AVs.â€\\x9d\\r\\n\\r\\n\\r\\nTeslaâ€™s Autopilot feature, one of many driver-assist features which allow control of the vehicle to switch from human to computer, can distract drivers or give them a false sense of security. The Verge\\r\\nWhatâ€™s the difference between semi-autonomous and fully autonomous?\\r\\nThereâ€™s one safety debate that continues to divide the self-driving industry: Some automakers are still pushing for versions of vehicles which allow control to pass from human to computer, offering drivers the ability to toggle between semi-autonomous and fully autonomous modes.\\r\\n\\r\\nTwo fatal Tesla crashesâ€”one in 2016 and one in 2018â€”that occurred while the drivers were using the vehicleâ€™s Autopilot feature illustrated the dangers of a semi-autonomous mode. As the National Transportation Safety Board (NTSB) noted in its report of the 2016 crash, semi-autonomous systems give â€œfar more leeway to the driver to divert his attention to something other than driving.â€\\x9d\\r\\n\\r\\nFully autonomous is the official policy recommendation from the Self-Driving Coalition for Safer Streets, a lobbying group that wants cars to eventually phase out steering wheels and let the software take over, 100 percent of the time. This completely eliminates the potential for human error.\\r\\n\\r\\nIn 2018, Waymo began conducting fully autonomous testing in Arizona without a human safety driver, and in 2019, began transporting passengers in fully autonomous vehicles. California now allows fully autonomous testing as well, but without passengers for now.\\r\\n\\r\\nEspecially after the Uber crash, San Francisco bike advocates worry that the tech isnâ€™t powerful enough to see cyclists. The California Bicycle Coalition started a petition to stop fully autonomous vehicles from being tested on California streets.\\r\\n'"
      ]
     },
     "execution_count": 23,
     "metadata": {},
     "output_type": "execute_result"
    }
   ],
   "source": [
    "df.loc[1]['Content']"
   ]
  },
  {
   "cell_type": "markdown",
   "metadata": {},
   "source": [
    "1. Special character cleaning"
   ]
  },
  {
   "cell_type": "code",
   "execution_count": 24,
   "metadata": {},
   "outputs": [
    {
     "data": {
      "text/plain": [
       "'From ushering in an era of decreased car ownership, to narrowing streets and eliminating parking lots, autonomous vehicles promise to dramatically reshape our cities. But after an Uber-operated self-driving vehicle struck and killed 49-year-old Elaine Herzberg, who was crossing the street with her bike in Tempe, Arizona on March 18, 2018, there are more questions than ever about the safety of this technology, especially as these vehicles are being tested more frequently on public streets. Some argue the safety record for self-driving cars isnâ€™t proven, and that itâ€™s unclear whether or not enough testing miles have been driven in real-life conditions. Other safety advocates go further, and say that driverless cars are introducing a new problem to cities, when cities should instead be focusing on improving transit and encouraging walking and biking instead. Contentions aside, the autonomous revolution is already here, although some cities will see its impacts sooner than others. From Las Vegas, where a Navya self-driving minibus scoots slowly along a downtown street, to General Motorsâ€™ Cruise ride-hailing service in San Francisco with backup humans in the driverâ€™s seat, to Waymoâ€™s family-focused Chandler, Arizonaâ€“based pilot program that uses no human operators in its Chrysler Pacifica minivans at all, the country is accelerating towards a driverless future. While the U.S. government has historically been confident in autonomous vehiclesâ€™ ability to end the epidemic of traffic deaths on our streets, there are plenty of concerns from opponents of self-driving cars that are making cities think twice before welcoming them to their streets.   Self-driving vehicles may be poised to deliver a future of safer, greener streets for all, but testing the vehicles on todayâ€™s streets is a concern. Farrells and WSP | Parsons Brinckerhoff  Are autonomous vehicles safe?  In 2009, Google launched its self-driving project focusing on saving lives and serving people with disabilities. In a 2014 video, Google showed blind and elderly riders climbing into its custom-designed autonomous vehicles, part of the companyâ€™s plan to â€œimprove road safety and help lots of people who canâ€™t drive.â€\\x9d Although there were several self-driving projects in the country at the time, many being developed by government agencies or university labs, Googleâ€™s project differentiated itself by being public-facing. The goal was not to build carsâ€”although Google did build its own testing prototypesâ€”but to create a self-driving service that would help regular people get around. Google began testing its vehicles on public streets the very same year the project launched. With the reorganization of Google into its new parent company Alphabet, the self-driving program became its own entity, Waymo. Almost a decade later, Waymo remains the clear leader for safe self-driving miles on U.S. streets. As of November 2019, Waymo had logged 10 million self-driven miles, making it the leader for self-driven miles on U.S. streets. Thatâ€™s double the amount of miles Waymo had driven in February 2018. In July 2018, Waymoâ€™s new electric Jaguar I-Paces vehicle hit the streets, in addition to its Chrysler Pacifica hybrid minivans. According to Waymoâ€™s monthly reports, its vehicles have been in dozens of crashes, but caused no serious injuries. In 2016, a Waymo vehicle bumped a bus while going 2 miles per hour. On May 4, 2018, one of Waymoâ€™s minivans was involved in a crash with minor injuries in Chandler, Arizona while in autonomous mode, but police said Waymoâ€™s van was not the â€œviolator vehicle.â€\\x9d In October 2018 a Waymo vehicle was involved in a crash that sent a motorcyclist to the hospital with minor injuries, but the human driver was at fault. Now there are dozens of autonomous vehicle companies testing on U.S. streets, but next most experienced companies, Uber and GM Cruise, are still several million miles behind Waymo. That doesnâ€™t include miles driven in the semi-autonomous modes that many cars now offer, like Teslaâ€™s Autopilot, which are more driver-assistance systems than true self-driving vehicles. In the last few years, the greatest strides taken in the self-driving industry have been by ride-hailing companies, who are devoting an exceptional amount of time and money to develop their own proprietary technologies and, in many cases, giving members of the public rides in their vehicles. In 2017, Lyftâ€™s CEO predicted that within five years, all their vehicles will be autonomous. At a press conference in March 2018, where Waymoâ€™s CEO John Krafcik announced its ride-hailing program, Krafcik claimed that the company will be making at least one million trips per day by 2020.  Can autonomous cars drive better than humans?  The biggest safety advantage to an autonomous vehicle is that a robot is not a humanâ€”it is programmed to obey all the rules of the road, wonâ€™t speed, and canâ€™t be distracted by a text message flickering onto a phone. And, hypothetically at least, AVs can also detect what humans canâ€™tâ€”especially at night or in low-light conditionsâ€”and react more quickly to avoid a collision. AVs are laden with sensors and software that work together to build a complete picture of the road. One key technology for AVs is LIDAR, or a â€œlight-detecting and rangingâ€\\x9d sensor. Using millions of lasers, LIDAR draws a real-time, 3D image of the environment around the vehicle. In addition to LIDAR, radar sensors can measure the size and speed of moving objects. And high-definition cameras can actually read signs and signals. As the car is traveling, it cross-references all this data with GPS technology that situates the vehicle within a city and helps to plan its route. In addition to the sensors and maps, AVs run software programs which make real-time decisions about how the car will navigate relative to other vehicles, humans, or objects in the road. Engineers can run the cars through simulations, but the software also needs to learn from actual driving situations. This is why real-world testing on public roads is so important. But how AV companies gather that information has led to greater concerns about how autonomous vehicles can detect and avoid vulnerable road users, like cyclists, and people who move slowly and more erratically through streets, like seniors and children. Waymo, for example, claims its software has been explicitly programmed to recognize cyclists. A video that Waymo released in 2016 (back when it was still part of Google) shows how one of its vehicles detected and stopped for a wrong-way cyclist coming around a corner at night. According to a May 2018 report from The Information, Uberâ€™s vehicle did detect Herzberg before its fatal Tempe crash, but the system made a decision not to swerve. â€œThe carâ€™s sensors detected the pedestrian, who was crossing the street with a bicycle, but Uberâ€™s software decided it didnâ€™t need to react right away.â€\\x9d A preliminary report by the National Transportation Safety Board (NTSB) confirmed that not only had Uber disabled the Volvo SUVâ€™s collision-avoidance feature, Uberâ€™s own system detected Herzberg six seconds before the crash and did not brake until 1.3 seconds before impact. However, Arizona prosecutors did not charge Uber, writing in a letter that â€œthere is no basis for criminal liability for the Uber corporation arising from this matter.â€\\x9d Uberâ€™s self-driving unit Arizona announced it was closing down on May 23, 2018. In July, Uber eliminated 100 self-driving positions in Pittsburgh and San Francisco. Uberâ€™s self-driving program has since returned to Pittsburgh, where it is limiting testing to daylight hours. The role of human â€œbackup driversâ€\\x9d as part of AV testing has also come into question after Tempe police documents obtained by Gizmodo showed that driver Rafaela Vasquez was streaming a video on her phone at the time of Uberâ€™s fatal crash. â€œThe driver in this case could have reacted and brought the vehicle to a stop 42.61 feet prior to the pedestrian,â€\\x9d reads the report, which calls the crash â€œentirely avoidable.â€\\x9d In November 2019, the final NTSB report attributed the crash to human error, but placed much of the blame on Vasquez. At the NTSB hearing, board members also criticized the federal government for safety regulations that are too lax. Self-driving companies also put their vehicles through endless tests using simulated city streets. Many traditional automakers use a facility named M City in Ann Arbor, Michigan, but the larger self-driving companies have built their own fake cities specifically to test interactions with humans who are not in vehicles. Waymoâ€™s fake city, named Castle, even has a shed full of propsâ€”like tricyclesâ€”that might be used by people on streets so that Waymoâ€™s engineers can learn how to identify them. After Uberâ€™s fatal crash, Toyota built a new facility to test its vehiclesâ€™ responses to â€œedge casesâ€\\x9dâ€”extreme situations too dangerous to test on public streets.   USDOT has been testing autonomous technology at the M City facility for many years. M City  Will eliminating human drivers reduce traffic deaths?  50 years ago, the U.S.â€™s rate of traffic deaths was higher than they are nowâ€”in 1980, generally considered to be the deadliest year on U.S. streets, over 50,000 people were killed. With safety features like airbags added to vehicles, stricter seat belt laws, and campaigns that stigmatized drunk driving, the rate of deaths went down significantly. But over the last few years, the U.S. has seen a slight increase in traffic deaths again. Additionally, pedestrian fatalities increased by 27 percent over the last decade, while all other traffic fatalities decreased by 14 percent. There isnâ€™t agreement for why these deaths are increasing, but some experts believe that this is because Americans are driving moreâ€”overall vehicle-miles traveled (VMT) reached an all-time high in 2017. Using USDOTâ€™s claim that 94 percent of crashes are caused by human error, it seems like a fairly obvious way to reduce crashes is to reduce the number of humans behind the wheel. But itâ€™s not just the number of human drivers that should be reduced, the U.S. could also reduce the number of cars on roads to prevent fatalitiesâ€”and autonomous vehicles might be able to help do that, too. The real safety promise of autonomous vehicles is the fact that these vehicles can be be summoned on-demand, routed more efficiently, and easily sharedâ€”meaning not just the overall number of single-passenger cars on streets will decline, but the number of single-passenger trips will be reduced, meaning a reduction in overall miles traveled. In addition, cities can use automated vehicles to tackle ambitious on-demand transit projects, like a proposed initiative to integrate shared self-driving vehicles into the public transit fleet. If cities can launch these kind of â€œmicrotransitâ€\\x9d systems that serve as a first-mile/last-mile solution to help get more people to fixed-route public transportation, that will also mean fewer people in cars and more people on safer modes of transit. According to a 2016 American Public Transportation Association study, traveling by public transportation is ten times safer per mile than traveling by car. Without having to make room for so many cars, city streets can be narrowed, making even more room for pedestrians and bikes to safely navigate cities. In this way, autonomous vehicles have a great role to play as part of a Vision Zero strategy, which most major U.S. cities have implemented in order to eliminate traffic deaths.   A typical U.S. roadway remade as a safe, accessible street filled with autonomous technology, from shared taxibots to self-driving buses, from NACTOâ€™s Blueprint for Autonomous Urbanism. NACTO  But arenâ€™t human-driven cars safer now, too?  While residents of only a few cities can summon an AV on-demand right now, the truth is that much of the safety tech powering self-driving cars is making its way into todayâ€™s cars. Sophisticated collision-avoidance systems, for example, which can stop a vehicle if an object or person are detected in its path, are already being incorporated into new cars and buses. This is why the way the National Highway Traffic Safety Administration (NHTSA) tests those kinds of safety innovations is also changing. Until recently, all safety standards were based on historical crash data, meaning the government had to track years and years of roadway incidents (and, in many cases, deaths) before making an official recommendation. Now, technology is advancing so quickly that thereâ€™s not enough time to test every new idea for a decade. The government knows it needs to be more nimble. In fact, thatâ€™s what happened for a recent USDOT recommendation that all cars be equipped with vehicle-to-vehicle communication (V2V), a tool which allows cars to â€œtalkâ€\\x9d to each other. This recommendation was fast-tracked in 2015 by U.S. transportation secretary Anthony Foxx after detailed simulations and modeling showed that the benefits were obviousâ€”there was no need to spend years collecting historical data. The same type of recommendation might be made for an aspect of autonomous tech. Once a clear safety benefit has been proven across the self-driving industry, a specific feature might become standard on all vehicles.   An 8-person autonomous shuttle by Navya travels a route at a speed of 15 mph in Downtown Las Vegas. Keolis  Where are self-driving cars being tested?  About half of U.S. states allow testing of autonomous vehicles on public roads, but regulations for each state vary widely. The majority of testing is focused in a handful of states: Arizona, California, Georgia, Michigan, Nevada, Texas, Pennsylvania, and Washington. California remains the busiest hub for the AV industry: There are currently 52 companies testing self-driving technology on the stateâ€™s streets. Itâ€™s also one of the most heavily regulated markets: Californiaâ€™s Department of Motor Vehicles requires companies to file for a permit and submit annual reports that include the number of miles driven and any crashes. While itâ€™s not necessarily used as a safety metric, one performance standard that helps to illustrate how technology is improving is tracking the number of times per self-driving mile that a human driver has to take over, which is called a â€œdisengagement.â€\\x9d California DMV records demonstrate that as self-driving programs log more on-road experience, they see fewer and fewer disengagements. Other states donâ€™t require as much documentation as Californiaâ€”and theyâ€™re not necessarily required to make any information public. Arizona, for example, approved AV testing on public roads in 2016 without notifying its residents, and didnâ€™t require any reports from companies, although after Uberâ€™s fatal crash, that has changed. Uber Self-Driving Car  Hills, snow, quirky local driving customs, and loose state regulations are some of the reasons Uber started testing its self-driving program in Pittsburgh. AP Photo/Jared Wickerham  Does the federal government regulate autonomous vehicles?  In 2016, the U.S. government released its long-awaited rules on self-driving vehicles. The Department of Transportationâ€™s 116-page document lists many benefits for bringing technology to market, among them improved sustainability, productivity, and accessibility. But the USDOT reportâ€™s central promise is that autonomy will pave the way for policies that dramatically improve road safety. Even President Obama made the case for safety in an op-ed that heralded the dawn of the new driverless age: Right now, too many people die on our roadsâ€”35,200 last year aloneâ€”with 94 percent of those the result of human error or choice. Automated vehicles have the potential to save tens of thousands of lives each year. And right now, for too many senior citizens and Americans with disabilities, driving isnâ€™t an option. Automated vehicles could change their lives. In order to get cities across the country to start thinking about using autonomy to solve transportation problems, USDOT hosted the Smart City Challenge in 2016, which awarded $40 million to Columbus, Ohio, to develop a fleet of autonomous transit vehicles. As a result of the challenge, the 70 cities that competed now have blueprints for how to introduce AV tech to their transportation planning. Under the Trump administration, much of the legislation proposed has been centered around exemptions for automakers and increasing the number of AVs allowed to operate on U.S. streets. In fact, in September 2017, USDOT and NHTSA issued updated AV guidelines, which carried an even lighter regulatory touch, after industry leaders expressed concerns about regulation at the federal level stifling innovation. In addition to the 2017 policy statement, Transportation Secretary Elaine Chao held preliminary hearings about autonomous vehicles where she affirmed the government would not play a heavy-handed role. â€œThe market will decide what is the most effective solution,â€\\x9d she said. However, the aggressive development of V2Vâ€”which experts agree can work to make human-driven cars much safer as autonomous technology comes to marketâ€”has not been made a priority during her leadership. On October 4, 2018, USDOT announced new guidelines to guide development and deployment of AVs, including the possibility that the department would change its safety standard rules to allow new types of autonomous vehicles to operate on U.S. roads. This would mean potentially making exemptions for automakers to produce vehicles without human-centered operating features like steering wheels. Chao also addressed the fact that public acceptance was a key element for autonomous vehicle adoption. â€œCompanies need to step up and address the publicâ€™s concerns about safety,â€\\x9d she said. â€œBecause without public acceptance, the full potential of these technologies may never be realized.â€\\x9d USDOTâ€™s lack of regulation was called out as â€œlaughableâ€\\x9d by NTSB board member Jennifer Homendy during the November 2019 hearings about Uberâ€™s fatal crash. â€œI actually think that there is a major failing on the federal governmentâ€™s part and the state of Arizona, because they also didnâ€™t have any standards in place and still donâ€™t, for failing to regulate these operations,â€\\x9d she said. In a speech at the Consumer Electronics Show on January 8, 2020, Chao announced AV 4.0, a new set of voluntary guidelines which reconfirms the federal governmentâ€™s hands-off approach to AV regulation. The plan was quickly panned by safety advocates, including Cathy Chase, president of Advocates for Highway and Auto Safety, who cited Uberâ€™s fatal crash, among others, in a statement denouncing AV 4.0. â€œDespite these disturbing incidents, the agency tasked with ensuring public safety on our roadways has abrogated their responsibility to issue rules requiring minimum performance standards for AVs.â€\\x9d   Teslaâ€™s Autopilot feature, one of many driver-assist features which allow control of the vehicle to switch from human to computer, can distract drivers or give them a false sense of security. The Verge  Whatâ€™s the difference between semi-autonomous and fully autonomous?  Thereâ€™s one safety debate that continues to divide the self-driving industry: Some automakers are still pushing for versions of vehicles which allow control to pass from human to computer, offering drivers the ability to toggle between semi-autonomous and fully autonomous modes. Two fatal Tesla crashesâ€”one in 2016 and one in 2018â€”that occurred while the drivers were using the vehicleâ€™s Autopilot feature illustrated the dangers of a semi-autonomous mode. As the National Transportation Safety Board (NTSB) noted in its report of the 2016 crash, semi-autonomous systems give â€œfar more leeway to the driver to divert his attention to something other than driving.â€\\x9d Fully autonomous is the official policy recommendation from the Self-Driving Coalition for Safer Streets, a lobbying group that wants cars to eventually phase out steering wheels and let the software take over, 100 percent of the time. This completely eliminates the potential for human error. In 2018, Waymo began conducting fully autonomous testing in Arizona without a human safety driver, and in 2019, began transporting passengers in fully autonomous vehicles. California now allows fully autonomous testing as well, but without passengers for now. Especially after the Uber crash, San Francisco bike advocates worry that the tech isnâ€™t powerful enough to see cyclists. The California Bicycle Coalition started a petition to stop fully autonomous vehicles from being tested on California streets.  '"
      ]
     },
     "execution_count": 24,
     "metadata": {},
     "output_type": "execute_result"
    }
   ],
   "source": [
    "df.loc[1]['Content_Parsed_1']"
   ]
  },
  {
   "cell_type": "markdown",
   "metadata": {},
   "source": [
    "2. Upcase/downcase"
   ]
  },
  {
   "cell_type": "code",
   "execution_count": 25,
   "metadata": {},
   "outputs": [
    {
     "data": {
      "text/plain": [
       "'from ushering in an era of decreased car ownership, to narrowing streets and eliminating parking lots, autonomous vehicles promise to dramatically reshape our cities. but after an uber-operated self-driving vehicle struck and killed 49-year-old elaine herzberg, who was crossing the street with her bike in tempe, arizona on march 18, 2018, there are more questions than ever about the safety of this technology, especially as these vehicles are being tested more frequently on public streets. some argue the safety record for self-driving cars isnâ€™t proven, and that itâ€™s unclear whether or not enough testing miles have been driven in real-life conditions. other safety advocates go further, and say that driverless cars are introducing a new problem to cities, when cities should instead be focusing on improving transit and encouraging walking and biking instead. contentions aside, the autonomous revolution is already here, although some cities will see its impacts sooner than others. from las vegas, where a navya self-driving minibus scoots slowly along a downtown street, to general motorsâ€™ cruise ride-hailing service in san francisco with backup humans in the driverâ€™s seat, to waymoâ€™s family-focused chandler, arizonaâ€“based pilot program that uses no human operators in its chrysler pacifica minivans at all, the country is accelerating towards a driverless future. while the u.s. government has historically been confident in autonomous vehiclesâ€™ ability to end the epidemic of traffic deaths on our streets, there are plenty of concerns from opponents of self-driving cars that are making cities think twice before welcoming them to their streets.   self-driving vehicles may be poised to deliver a future of safer, greener streets for all, but testing the vehicles on todayâ€™s streets is a concern. farrells and wsp | parsons brinckerhoff  are autonomous vehicles safe?  in 2009, google launched its self-driving project focusing on saving lives and serving people with disabilities. in a 2014 video, google showed blind and elderly riders climbing into its custom-designed autonomous vehicles, part of the companyâ€™s plan to â€œimprove road safety and help lots of people who canâ€™t drive.â€\\x9d although there were several self-driving projects in the country at the time, many being developed by government agencies or university labs, googleâ€™s project differentiated itself by being public-facing. the goal was not to build carsâ€”although google did build its own testing prototypesâ€”but to create a self-driving service that would help regular people get around. google began testing its vehicles on public streets the very same year the project launched. with the reorganization of google into its new parent company alphabet, the self-driving program became its own entity, waymo. almost a decade later, waymo remains the clear leader for safe self-driving miles on u.s. streets. as of november 2019, waymo had logged 10 million self-driven miles, making it the leader for self-driven miles on u.s. streets. thatâ€™s double the amount of miles waymo had driven in february 2018. in july 2018, waymoâ€™s new electric jaguar i-paces vehicle hit the streets, in addition to its chrysler pacifica hybrid minivans. according to waymoâ€™s monthly reports, its vehicles have been in dozens of crashes, but caused no serious injuries. in 2016, a waymo vehicle bumped a bus while going 2 miles per hour. on may 4, 2018, one of waymoâ€™s minivans was involved in a crash with minor injuries in chandler, arizona while in autonomous mode, but police said waymoâ€™s van was not the â€œviolator vehicle.â€\\x9d in october 2018 a waymo vehicle was involved in a crash that sent a motorcyclist to the hospital with minor injuries, but the human driver was at fault. now there are dozens of autonomous vehicle companies testing on u.s. streets, but next most experienced companies, uber and gm cruise, are still several million miles behind waymo. that doesnâ€™t include miles driven in the semi-autonomous modes that many cars now offer, like teslaâ€™s autopilot, which are more driver-assistance systems than true self-driving vehicles. in the last few years, the greatest strides taken in the self-driving industry have been by ride-hailing companies, who are devoting an exceptional amount of time and money to develop their own proprietary technologies and, in many cases, giving members of the public rides in their vehicles. in 2017, lyftâ€™s ceo predicted that within five years, all their vehicles will be autonomous. at a press conference in march 2018, where waymoâ€™s ceo john krafcik announced its ride-hailing program, krafcik claimed that the company will be making at least one million trips per day by 2020.  can autonomous cars drive better than humans?  the biggest safety advantage to an autonomous vehicle is that a robot is not a humanâ€”it is programmed to obey all the rules of the road, wonâ€™t speed, and canâ€™t be distracted by a text message flickering onto a phone. and, hypothetically at least, avs can also detect what humans canâ€™tâ€”especially at night or in low-light conditionsâ€”and react more quickly to avoid a collision. avs are laden with sensors and software that work together to build a complete picture of the road. one key technology for avs is lidar, or a â€œlight-detecting and rangingâ€\\x9d sensor. using millions of lasers, lidar draws a real-time, 3d image of the environment around the vehicle. in addition to lidar, radar sensors can measure the size and speed of moving objects. and high-definition cameras can actually read signs and signals. as the car is traveling, it cross-references all this data with gps technology that situates the vehicle within a city and helps to plan its route. in addition to the sensors and maps, avs run software programs which make real-time decisions about how the car will navigate relative to other vehicles, humans, or objects in the road. engineers can run the cars through simulations, but the software also needs to learn from actual driving situations. this is why real-world testing on public roads is so important. but how av companies gather that information has led to greater concerns about how autonomous vehicles can detect and avoid vulnerable road users, like cyclists, and people who move slowly and more erratically through streets, like seniors and children. waymo, for example, claims its software has been explicitly programmed to recognize cyclists. a video that waymo released in 2016 (back when it was still part of google) shows how one of its vehicles detected and stopped for a wrong-way cyclist coming around a corner at night. according to a may 2018 report from the information, uberâ€™s vehicle did detect herzberg before its fatal tempe crash, but the system made a decision not to swerve. â€œthe carâ€™s sensors detected the pedestrian, who was crossing the street with a bicycle, but uberâ€™s software decided it didnâ€™t need to react right away.â€\\x9d a preliminary report by the national transportation safety board (ntsb) confirmed that not only had uber disabled the volvo suvâ€™s collision-avoidance feature, uberâ€™s own system detected herzberg six seconds before the crash and did not brake until 1.3 seconds before impact. however, arizona prosecutors did not charge uber, writing in a letter that â€œthere is no basis for criminal liability for the uber corporation arising from this matter.â€\\x9d uberâ€™s self-driving unit arizona announced it was closing down on may 23, 2018. in july, uber eliminated 100 self-driving positions in pittsburgh and san francisco. uberâ€™s self-driving program has since returned to pittsburgh, where it is limiting testing to daylight hours. the role of human â€œbackup driversâ€\\x9d as part of av testing has also come into question after tempe police documents obtained by gizmodo showed that driver rafaela vasquez was streaming a video on her phone at the time of uberâ€™s fatal crash. â€œthe driver in this case could have reacted and brought the vehicle to a stop 42.61 feet prior to the pedestrian,â€\\x9d reads the report, which calls the crash â€œentirely avoidable.â€\\x9d in november 2019, the final ntsb report attributed the crash to human error, but placed much of the blame on vasquez. at the ntsb hearing, board members also criticized the federal government for safety regulations that are too lax. self-driving companies also put their vehicles through endless tests using simulated city streets. many traditional automakers use a facility named m city in ann arbor, michigan, but the larger self-driving companies have built their own fake cities specifically to test interactions with humans who are not in vehicles. waymoâ€™s fake city, named castle, even has a shed full of propsâ€”like tricyclesâ€”that might be used by people on streets so that waymoâ€™s engineers can learn how to identify them. after uberâ€™s fatal crash, toyota built a new facility to test its vehiclesâ€™ responses to â€œedge casesâ€\\x9dâ€”extreme situations too dangerous to test on public streets.   usdot has been testing autonomous technology at the m city facility for many years. m city  will eliminating human drivers reduce traffic deaths?  50 years ago, the u.s.â€™s rate of traffic deaths was higher than they are nowâ€”in 1980, generally considered to be the deadliest year on u.s. streets, over 50,000 people were killed. with safety features like airbags added to vehicles, stricter seat belt laws, and campaigns that stigmatized drunk driving, the rate of deaths went down significantly. but over the last few years, the u.s. has seen a slight increase in traffic deaths again. additionally, pedestrian fatalities increased by 27 percent over the last decade, while all other traffic fatalities decreased by 14 percent. there isnâ€™t agreement for why these deaths are increasing, but some experts believe that this is because americans are driving moreâ€”overall vehicle-miles traveled (vmt) reached an all-time high in 2017. using usdotâ€™s claim that 94 percent of crashes are caused by human error, it seems like a fairly obvious way to reduce crashes is to reduce the number of humans behind the wheel. but itâ€™s not just the number of human drivers that should be reduced, the u.s. could also reduce the number of cars on roads to prevent fatalitiesâ€”and autonomous vehicles might be able to help do that, too. the real safety promise of autonomous vehicles is the fact that these vehicles can be be summoned on-demand, routed more efficiently, and easily sharedâ€”meaning not just the overall number of single-passenger cars on streets will decline, but the number of single-passenger trips will be reduced, meaning a reduction in overall miles traveled. in addition, cities can use automated vehicles to tackle ambitious on-demand transit projects, like a proposed initiative to integrate shared self-driving vehicles into the public transit fleet. if cities can launch these kind of â€œmicrotransitâ€\\x9d systems that serve as a first-mile/last-mile solution to help get more people to fixed-route public transportation, that will also mean fewer people in cars and more people on safer modes of transit. according to a 2016 american public transportation association study, traveling by public transportation is ten times safer per mile than traveling by car. without having to make room for so many cars, city streets can be narrowed, making even more room for pedestrians and bikes to safely navigate cities. in this way, autonomous vehicles have a great role to play as part of a vision zero strategy, which most major u.s. cities have implemented in order to eliminate traffic deaths.   a typical u.s. roadway remade as a safe, accessible street filled with autonomous technology, from shared taxibots to self-driving buses, from nactoâ€™s blueprint for autonomous urbanism. nacto  but arenâ€™t human-driven cars safer now, too?  while residents of only a few cities can summon an av on-demand right now, the truth is that much of the safety tech powering self-driving cars is making its way into todayâ€™s cars. sophisticated collision-avoidance systems, for example, which can stop a vehicle if an object or person are detected in its path, are already being incorporated into new cars and buses. this is why the way the national highway traffic safety administration (nhtsa) tests those kinds of safety innovations is also changing. until recently, all safety standards were based on historical crash data, meaning the government had to track years and years of roadway incidents (and, in many cases, deaths) before making an official recommendation. now, technology is advancing so quickly that thereâ€™s not enough time to test every new idea for a decade. the government knows it needs to be more nimble. in fact, thatâ€™s what happened for a recent usdot recommendation that all cars be equipped with vehicle-to-vehicle communication (v2v), a tool which allows cars to â€œtalkâ€\\x9d to each other. this recommendation was fast-tracked in 2015 by u.s. transportation secretary anthony foxx after detailed simulations and modeling showed that the benefits were obviousâ€”there was no need to spend years collecting historical data. the same type of recommendation might be made for an aspect of autonomous tech. once a clear safety benefit has been proven across the self-driving industry, a specific feature might become standard on all vehicles.   an 8-person autonomous shuttle by navya travels a route at a speed of 15 mph in downtown las vegas. keolis  where are self-driving cars being tested?  about half of u.s. states allow testing of autonomous vehicles on public roads, but regulations for each state vary widely. the majority of testing is focused in a handful of states: arizona, california, georgia, michigan, nevada, texas, pennsylvania, and washington. california remains the busiest hub for the av industry: there are currently 52 companies testing self-driving technology on the stateâ€™s streets. itâ€™s also one of the most heavily regulated markets: californiaâ€™s department of motor vehicles requires companies to file for a permit and submit annual reports that include the number of miles driven and any crashes. while itâ€™s not necessarily used as a safety metric, one performance standard that helps to illustrate how technology is improving is tracking the number of times per self-driving mile that a human driver has to take over, which is called a â€œdisengagement.â€\\x9d california dmv records demonstrate that as self-driving programs log more on-road experience, they see fewer and fewer disengagements. other states donâ€™t require as much documentation as californiaâ€”and theyâ€™re not necessarily required to make any information public. arizona, for example, approved av testing on public roads in 2016 without notifying its residents, and didnâ€™t require any reports from companies, although after uberâ€™s fatal crash, that has changed. uber self-driving car  hills, snow, quirky local driving customs, and loose state regulations are some of the reasons uber started testing its self-driving program in pittsburgh. ap photo/jared wickerham  does the federal government regulate autonomous vehicles?  in 2016, the u.s. government released its long-awaited rules on self-driving vehicles. the department of transportationâ€™s 116-page document lists many benefits for bringing technology to market, among them improved sustainability, productivity, and accessibility. but the usdot reportâ€™s central promise is that autonomy will pave the way for policies that dramatically improve road safety. even president obama made the case for safety in an op-ed that heralded the dawn of the new driverless age: right now, too many people die on our roadsâ€”35,200 last year aloneâ€”with 94 percent of those the result of human error or choice. automated vehicles have the potential to save tens of thousands of lives each year. and right now, for too many senior citizens and americans with disabilities, driving isnâ€™t an option. automated vehicles could change their lives. in order to get cities across the country to start thinking about using autonomy to solve transportation problems, usdot hosted the smart city challenge in 2016, which awarded $40 million to columbus, ohio, to develop a fleet of autonomous transit vehicles. as a result of the challenge, the 70 cities that competed now have blueprints for how to introduce av tech to their transportation planning. under the trump administration, much of the legislation proposed has been centered around exemptions for automakers and increasing the number of avs allowed to operate on u.s. streets. in fact, in september 2017, usdot and nhtsa issued updated av guidelines, which carried an even lighter regulatory touch, after industry leaders expressed concerns about regulation at the federal level stifling innovation. in addition to the 2017 policy statement, transportation secretary elaine chao held preliminary hearings about autonomous vehicles where she affirmed the government would not play a heavy-handed role. â€œthe market will decide what is the most effective solution,â€\\x9d she said. however, the aggressive development of v2vâ€”which experts agree can work to make human-driven cars much safer as autonomous technology comes to marketâ€”has not been made a priority during her leadership. on october 4, 2018, usdot announced new guidelines to guide development and deployment of avs, including the possibility that the department would change its safety standard rules to allow new types of autonomous vehicles to operate on u.s. roads. this would mean potentially making exemptions for automakers to produce vehicles without human-centered operating features like steering wheels. chao also addressed the fact that public acceptance was a key element for autonomous vehicle adoption. â€œcompanies need to step up and address the publicâ€™s concerns about safety,â€\\x9d she said. â€œbecause without public acceptance, the full potential of these technologies may never be realized.â€\\x9d usdotâ€™s lack of regulation was called out as â€œlaughableâ€\\x9d by ntsb board member jennifer homendy during the november 2019 hearings about uberâ€™s fatal crash. â€œi actually think that there is a major failing on the federal governmentâ€™s part and the state of arizona, because they also didnâ€™t have any standards in place and still donâ€™t, for failing to regulate these operations,â€\\x9d she said. in a speech at the consumer electronics show on january 8, 2020, chao announced av 4.0, a new set of voluntary guidelines which reconfirms the federal governmentâ€™s hands-off approach to av regulation. the plan was quickly panned by safety advocates, including cathy chase, president of advocates for highway and auto safety, who cited uberâ€™s fatal crash, among others, in a statement denouncing av 4.0. â€œdespite these disturbing incidents, the agency tasked with ensuring public safety on our roadways has abrogated their responsibility to issue rules requiring minimum performance standards for avs.â€\\x9d   teslaâ€™s autopilot feature, one of many driver-assist features which allow control of the vehicle to switch from human to computer, can distract drivers or give them a false sense of security. the verge  whatâ€™s the difference between semi-autonomous and fully autonomous?  thereâ€™s one safety debate that continues to divide the self-driving industry: some automakers are still pushing for versions of vehicles which allow control to pass from human to computer, offering drivers the ability to toggle between semi-autonomous and fully autonomous modes. two fatal tesla crashesâ€”one in 2016 and one in 2018â€”that occurred while the drivers were using the vehicleâ€™s autopilot feature illustrated the dangers of a semi-autonomous mode. as the national transportation safety board (ntsb) noted in its report of the 2016 crash, semi-autonomous systems give â€œfar more leeway to the driver to divert his attention to something other than driving.â€\\x9d fully autonomous is the official policy recommendation from the self-driving coalition for safer streets, a lobbying group that wants cars to eventually phase out steering wheels and let the software take over, 100 percent of the time. this completely eliminates the potential for human error. in 2018, waymo began conducting fully autonomous testing in arizona without a human safety driver, and in 2019, began transporting passengers in fully autonomous vehicles. california now allows fully autonomous testing as well, but without passengers for now. especially after the uber crash, san francisco bike advocates worry that the tech isnâ€™t powerful enough to see cyclists. the california bicycle coalition started a petition to stop fully autonomous vehicles from being tested on california streets.  '"
      ]
     },
     "execution_count": 25,
     "metadata": {},
     "output_type": "execute_result"
    }
   ],
   "source": [
    "df.loc[1]['Content_Parsed_2']"
   ]
  },
  {
   "cell_type": "markdown",
   "metadata": {},
   "source": [
    "3. Punctuation signs"
   ]
  },
  {
   "cell_type": "code",
   "execution_count": 26,
   "metadata": {},
   "outputs": [
    {
     "data": {
      "text/plain": [
       "'from ushering in an era of decreased car ownership to narrowing streets and eliminating parking lots autonomous vehicles promise to dramatically reshape our cities but after an uber-operated self-driving vehicle struck and killed 49-year-old elaine herzberg who was crossing the street with her bike in tempe arizona on march 18 2018 there are more questions than ever about the safety of this technology especially as these vehicles are being tested more frequently on public streets some argue the safety record for self-driving cars isnâ€™t proven and that itâ€™s unclear whether or not enough testing miles have been driven in real-life conditions other safety advocates go further and say that driverless cars are introducing a new problem to cities when cities should instead be focusing on improving transit and encouraging walking and biking instead contentions aside the autonomous revolution is already here although some cities will see its impacts sooner than others from las vegas where a navya self-driving minibus scoots slowly along a downtown street to general motorsâ€™ cruise ride-hailing service in san francisco with backup humans in the driverâ€™s seat to waymoâ€™s family-focused chandler arizonaâ€“based pilot program that uses no human operators in its chrysler pacifica minivans at all the country is accelerating towards a driverless future while the us government has historically been confident in autonomous vehiclesâ€™ ability to end the epidemic of traffic deaths on our streets there are plenty of concerns from opponents of self-driving cars that are making cities think twice before welcoming them to their streets   self-driving vehicles may be poised to deliver a future of safer greener streets for all but testing the vehicles on todayâ€™s streets is a concern farrells and wsp | parsons brinckerhoff  are autonomous vehicles safe  in 2009 google launched its self-driving project focusing on saving lives and serving people with disabilities in a 2014 video google showed blind and elderly riders climbing into its custom-designed autonomous vehicles part of the companyâ€™s plan to â€œimprove road safety and help lots of people who canâ€™t driveâ€\\x9d although there were several self-driving projects in the country at the time many being developed by government agencies or university labs googleâ€™s project differentiated itself by being public-facing the goal was not to build carsâ€”although google did build its own testing prototypesâ€”but to create a self-driving service that would help regular people get around google began testing its vehicles on public streets the very same year the project launched with the reorganization of google into its new parent company alphabet the self-driving program became its own entity waymo almost a decade later waymo remains the clear leader for safe self-driving miles on us streets as of november 2019 waymo had logged 10 million self-driven miles making it the leader for self-driven miles on us streets thatâ€™s double the amount of miles waymo had driven in february 2018 in july 2018 waymoâ€™s new electric jaguar i-paces vehicle hit the streets in addition to its chrysler pacifica hybrid minivans according to waymoâ€™s monthly reports its vehicles have been in dozens of crashes but caused no serious injuries in 2016 a waymo vehicle bumped a bus while going 2 miles per hour on may 4 2018 one of waymoâ€™s minivans was involved in a crash with minor injuries in chandler arizona while in autonomous mode but police said waymoâ€™s van was not the â€œviolator vehicleâ€\\x9d in october 2018 a waymo vehicle was involved in a crash that sent a motorcyclist to the hospital with minor injuries but the human driver was at fault now there are dozens of autonomous vehicle companies testing on us streets but next most experienced companies uber and gm cruise are still several million miles behind waymo that doesnâ€™t include miles driven in the semi-autonomous modes that many cars now offer like teslaâ€™s autopilot which are more driver-assistance systems than true self-driving vehicles in the last few years the greatest strides taken in the self-driving industry have been by ride-hailing companies who are devoting an exceptional amount of time and money to develop their own proprietary technologies and in many cases giving members of the public rides in their vehicles in 2017 lyftâ€™s ceo predicted that within five years all their vehicles will be autonomous at a press conference in march 2018 where waymoâ€™s ceo john krafcik announced its ride-hailing program krafcik claimed that the company will be making at least one million trips per day by 2020  can autonomous cars drive better than humans  the biggest safety advantage to an autonomous vehicle is that a robot is not a humanâ€”it is programmed to obey all the rules of the road wonâ€™t speed and canâ€™t be distracted by a text message flickering onto a phone and hypothetically at least avs can also detect what humans canâ€™tâ€”especially at night or in low-light conditionsâ€”and react more quickly to avoid a collision avs are laden with sensors and software that work together to build a complete picture of the road one key technology for avs is lidar or a â€œlight-detecting and rangingâ€\\x9d sensor using millions of lasers lidar draws a real-time 3d image of the environment around the vehicle in addition to lidar radar sensors can measure the size and speed of moving objects and high-definition cameras can actually read signs and signals as the car is traveling it cross-references all this data with gps technology that situates the vehicle within a city and helps to plan its route in addition to the sensors and maps avs run software programs which make real-time decisions about how the car will navigate relative to other vehicles humans or objects in the road engineers can run the cars through simulations but the software also needs to learn from actual driving situations this is why real-world testing on public roads is so important but how av companies gather that information has led to greater concerns about how autonomous vehicles can detect and avoid vulnerable road users like cyclists and people who move slowly and more erratically through streets like seniors and children waymo for example claims its software has been explicitly programmed to recognize cyclists a video that waymo released in 2016 (back when it was still part of google) shows how one of its vehicles detected and stopped for a wrong-way cyclist coming around a corner at night according to a may 2018 report from the information uberâ€™s vehicle did detect herzberg before its fatal tempe crash but the system made a decision not to swerve â€œthe carâ€™s sensors detected the pedestrian who was crossing the street with a bicycle but uberâ€™s software decided it didnâ€™t need to react right awayâ€\\x9d a preliminary report by the national transportation safety board (ntsb) confirmed that not only had uber disabled the volvo suvâ€™s collision-avoidance feature uberâ€™s own system detected herzberg six seconds before the crash and did not brake until 13 seconds before impact however arizona prosecutors did not charge uber writing in a letter that â€œthere is no basis for criminal liability for the uber corporation arising from this matterâ€\\x9d uberâ€™s self-driving unit arizona announced it was closing down on may 23 2018 in july uber eliminated 100 self-driving positions in pittsburgh and san francisco uberâ€™s self-driving program has since returned to pittsburgh where it is limiting testing to daylight hours the role of human â€œbackup driversâ€\\x9d as part of av testing has also come into question after tempe police documents obtained by gizmodo showed that driver rafaela vasquez was streaming a video on her phone at the time of uberâ€™s fatal crash â€œthe driver in this case could have reacted and brought the vehicle to a stop 4261 feet prior to the pedestrianâ€\\x9d reads the report which calls the crash â€œentirely avoidableâ€\\x9d in november 2019 the final ntsb report attributed the crash to human error but placed much of the blame on vasquez at the ntsb hearing board members also criticized the federal government for safety regulations that are too lax self-driving companies also put their vehicles through endless tests using simulated city streets many traditional automakers use a facility named m city in ann arbor michigan but the larger self-driving companies have built their own fake cities specifically to test interactions with humans who are not in vehicles waymoâ€™s fake city named castle even has a shed full of propsâ€”like tricyclesâ€”that might be used by people on streets so that waymoâ€™s engineers can learn how to identify them after uberâ€™s fatal crash toyota built a new facility to test its vehiclesâ€™ responses to â€œedge casesâ€\\x9dâ€”extreme situations too dangerous to test on public streets   usdot has been testing autonomous technology at the m city facility for many years m city  will eliminating human drivers reduce traffic deaths  50 years ago the usâ€™s rate of traffic deaths was higher than they are nowâ€”in 1980 generally considered to be the deadliest year on us streets over 50000 people were killed with safety features like airbags added to vehicles stricter seat belt laws and campaigns that stigmatized drunk driving the rate of deaths went down significantly but over the last few years the us has seen a slight increase in traffic deaths again additionally pedestrian fatalities increased by 27 percent over the last decade while all other traffic fatalities decreased by 14 percent there isnâ€™t agreement for why these deaths are increasing but some experts believe that this is because americans are driving moreâ€”overall vehicle-miles traveled (vmt) reached an all-time high in 2017 using usdotâ€™s claim that 94 percent of crashes are caused by human error it seems like a fairly obvious way to reduce crashes is to reduce the number of humans behind the wheel but itâ€™s not just the number of human drivers that should be reduced the us could also reduce the number of cars on roads to prevent fatalitiesâ€”and autonomous vehicles might be able to help do that too the real safety promise of autonomous vehicles is the fact that these vehicles can be be summoned on-demand routed more efficiently and easily sharedâ€”meaning not just the overall number of single-passenger cars on streets will decline but the number of single-passenger trips will be reduced meaning a reduction in overall miles traveled in addition cities can use automated vehicles to tackle ambitious on-demand transit projects like a proposed initiative to integrate shared self-driving vehicles into the public transit fleet if cities can launch these kind of â€œmicrotransitâ€\\x9d systems that serve as a first-mile/last-mile solution to help get more people to fixed-route public transportation that will also mean fewer people in cars and more people on safer modes of transit according to a 2016 american public transportation association study traveling by public transportation is ten times safer per mile than traveling by car without having to make room for so many cars city streets can be narrowed making even more room for pedestrians and bikes to safely navigate cities in this way autonomous vehicles have a great role to play as part of a vision zero strategy which most major us cities have implemented in order to eliminate traffic deaths   a typical us roadway remade as a safe accessible street filled with autonomous technology from shared taxibots to self-driving buses from nactoâ€™s blueprint for autonomous urbanism nacto  but arenâ€™t human-driven cars safer now too  while residents of only a few cities can summon an av on-demand right now the truth is that much of the safety tech powering self-driving cars is making its way into todayâ€™s cars sophisticated collision-avoidance systems for example which can stop a vehicle if an object or person are detected in its path are already being incorporated into new cars and buses this is why the way the national highway traffic safety administration (nhtsa) tests those kinds of safety innovations is also changing until recently all safety standards were based on historical crash data meaning the government had to track years and years of roadway incidents (and in many cases deaths) before making an official recommendation now technology is advancing so quickly that thereâ€™s not enough time to test every new idea for a decade the government knows it needs to be more nimble in fact thatâ€™s what happened for a recent usdot recommendation that all cars be equipped with vehicle-to-vehicle communication (v2v) a tool which allows cars to â€œtalkâ€\\x9d to each other this recommendation was fast-tracked in 2015 by us transportation secretary anthony foxx after detailed simulations and modeling showed that the benefits were obviousâ€”there was no need to spend years collecting historical data the same type of recommendation might be made for an aspect of autonomous tech once a clear safety benefit has been proven across the self-driving industry a specific feature might become standard on all vehicles   an 8-person autonomous shuttle by navya travels a route at a speed of 15 mph in downtown las vegas keolis  where are self-driving cars being tested  about half of us states allow testing of autonomous vehicles on public roads but regulations for each state vary widely the majority of testing is focused in a handful of states arizona california georgia michigan nevada texas pennsylvania and washington california remains the busiest hub for the av industry there are currently 52 companies testing self-driving technology on the stateâ€™s streets itâ€™s also one of the most heavily regulated markets californiaâ€™s department of motor vehicles requires companies to file for a permit and submit annual reports that include the number of miles driven and any crashes while itâ€™s not necessarily used as a safety metric one performance standard that helps to illustrate how technology is improving is tracking the number of times per self-driving mile that a human driver has to take over which is called a â€œdisengagementâ€\\x9d california dmv records demonstrate that as self-driving programs log more on-road experience they see fewer and fewer disengagements other states donâ€™t require as much documentation as californiaâ€”and theyâ€™re not necessarily required to make any information public arizona for example approved av testing on public roads in 2016 without notifying its residents and didnâ€™t require any reports from companies although after uberâ€™s fatal crash that has changed uber self-driving car  hills snow quirky local driving customs and loose state regulations are some of the reasons uber started testing its self-driving program in pittsburgh ap photo/jared wickerham  does the federal government regulate autonomous vehicles  in 2016 the us government released its long-awaited rules on self-driving vehicles the department of transportationâ€™s 116-page document lists many benefits for bringing technology to market among them improved sustainability productivity and accessibility but the usdot reportâ€™s central promise is that autonomy will pave the way for policies that dramatically improve road safety even president obama made the case for safety in an op-ed that heralded the dawn of the new driverless age right now too many people die on our roadsâ€”35200 last year aloneâ€”with 94 percent of those the result of human error or choice automated vehicles have the potential to save tens of thousands of lives each year and right now for too many senior citizens and americans with disabilities driving isnâ€™t an option automated vehicles could change their lives in order to get cities across the country to start thinking about using autonomy to solve transportation problems usdot hosted the smart city challenge in 2016 which awarded $40 million to columbus ohio to develop a fleet of autonomous transit vehicles as a result of the challenge the 70 cities that competed now have blueprints for how to introduce av tech to their transportation planning under the trump administration much of the legislation proposed has been centered around exemptions for automakers and increasing the number of avs allowed to operate on us streets in fact in september 2017 usdot and nhtsa issued updated av guidelines which carried an even lighter regulatory touch after industry leaders expressed concerns about regulation at the federal level stifling innovation in addition to the 2017 policy statement transportation secretary elaine chao held preliminary hearings about autonomous vehicles where she affirmed the government would not play a heavy-handed role â€œthe market will decide what is the most effective solutionâ€\\x9d she said however the aggressive development of v2vâ€”which experts agree can work to make human-driven cars much safer as autonomous technology comes to marketâ€”has not been made a priority during her leadership on october 4 2018 usdot announced new guidelines to guide development and deployment of avs including the possibility that the department would change its safety standard rules to allow new types of autonomous vehicles to operate on us roads this would mean potentially making exemptions for automakers to produce vehicles without human-centered operating features like steering wheels chao also addressed the fact that public acceptance was a key element for autonomous vehicle adoption â€œcompanies need to step up and address the publicâ€™s concerns about safetyâ€\\x9d she said â€œbecause without public acceptance the full potential of these technologies may never be realizedâ€\\x9d usdotâ€™s lack of regulation was called out as â€œlaughableâ€\\x9d by ntsb board member jennifer homendy during the november 2019 hearings about uberâ€™s fatal crash â€œi actually think that there is a major failing on the federal governmentâ€™s part and the state of arizona because they also didnâ€™t have any standards in place and still donâ€™t for failing to regulate these operationsâ€\\x9d she said in a speech at the consumer electronics show on january 8 2020 chao announced av 40 a new set of voluntary guidelines which reconfirms the federal governmentâ€™s hands-off approach to av regulation the plan was quickly panned by safety advocates including cathy chase president of advocates for highway and auto safety who cited uberâ€™s fatal crash among others in a statement denouncing av 40 â€œdespite these disturbing incidents the agency tasked with ensuring public safety on our roadways has abrogated their responsibility to issue rules requiring minimum performance standards for avsâ€\\x9d   teslaâ€™s autopilot feature one of many driver-assist features which allow control of the vehicle to switch from human to computer can distract drivers or give them a false sense of security the verge  whatâ€™s the difference between semi-autonomous and fully autonomous  thereâ€™s one safety debate that continues to divide the self-driving industry some automakers are still pushing for versions of vehicles which allow control to pass from human to computer offering drivers the ability to toggle between semi-autonomous and fully autonomous modes two fatal tesla crashesâ€”one in 2016 and one in 2018â€”that occurred while the drivers were using the vehicleâ€™s autopilot feature illustrated the dangers of a semi-autonomous mode as the national transportation safety board (ntsb) noted in its report of the 2016 crash semi-autonomous systems give â€œfar more leeway to the driver to divert his attention to something other than drivingâ€\\x9d fully autonomous is the official policy recommendation from the self-driving coalition for safer streets a lobbying group that wants cars to eventually phase out steering wheels and let the software take over 100 percent of the time this completely eliminates the potential for human error in 2018 waymo began conducting fully autonomous testing in arizona without a human safety driver and in 2019 began transporting passengers in fully autonomous vehicles california now allows fully autonomous testing as well but without passengers for now especially after the uber crash san francisco bike advocates worry that the tech isnâ€™t powerful enough to see cyclists the california bicycle coalition started a petition to stop fully autonomous vehicles from being tested on california streets  '"
      ]
     },
     "execution_count": 26,
     "metadata": {},
     "output_type": "execute_result"
    }
   ],
   "source": [
    "df.loc[1]['Content_Parsed_3']"
   ]
  },
  {
   "cell_type": "markdown",
   "metadata": {},
   "source": [
    "4. Possessive pronouns"
   ]
  },
  {
   "cell_type": "code",
   "execution_count": 27,
   "metadata": {},
   "outputs": [
    {
     "data": {
      "text/plain": [
       "'from ushering in an era of decreased car ownership to narrowing streets and eliminating parking lots autonomous vehicles promise to dramatically reshape our cities but after an uber-operated self-driving vehicle struck and killed 49-year-old elaine herzberg who was crossing the street with her bike in tempe arizona on march 18 2018 there are more questions than ever about the safety of this technology especially as these vehicles are being tested more frequently on public streets some argue the safety record for self-driving cars isnâ€™t proven and that itâ€™s unclear whether or not enough testing miles have been driven in real-life conditions other safety advocates go further and say that driverless cars are introducing a new problem to cities when cities should instead be focusing on improving transit and encouraging walking and biking instead contentions aside the autonomous revolution is already here although some cities will see its impacts sooner than others from las vegas where a navya self-driving minibus scoots slowly along a downtown street to general motorsâ€™ cruise ride-hailing service in san francisco with backup humans in the driverâ€™s seat to waymoâ€™s family-focused chandler arizonaâ€“based pilot program that uses no human operators in its chrysler pacifica minivans at all the country is accelerating towards a driverless future while the us government has historically been confident in autonomous vehiclesâ€™ ability to end the epidemic of traffic deaths on our streets there are plenty of concerns from opponents of self-driving cars that are making cities think twice before welcoming them to their streets   self-driving vehicles may be poised to deliver a future of safer greener streets for all but testing the vehicles on todayâ€™s streets is a concern farrells and wsp | parsons brinckerhoff  are autonomous vehicles safe  in 2009 google launched its self-driving project focusing on saving lives and serving people with disabilities in a 2014 video google showed blind and elderly riders climbing into its custom-designed autonomous vehicles part of the companyâ€™s plan to â€œimprove road safety and help lots of people who canâ€™t driveâ€\\x9d although there were several self-driving projects in the country at the time many being developed by government agencies or university labs googleâ€™s project differentiated itself by being public-facing the goal was not to build carsâ€”although google did build its own testing prototypesâ€”but to create a self-driving service that would help regular people get around google began testing its vehicles on public streets the very same year the project launched with the reorganization of google into its new parent company alphabet the self-driving program became its own entity waymo almost a decade later waymo remains the clear leader for safe self-driving miles on us streets as of november 2019 waymo had logged 10 million self-driven miles making it the leader for self-driven miles on us streets thatâ€™s double the amount of miles waymo had driven in february 2018 in july 2018 waymoâ€™s new electric jaguar i-paces vehicle hit the streets in addition to its chrysler pacifica hybrid minivans according to waymoâ€™s monthly reports its vehicles have been in dozens of crashes but caused no serious injuries in 2016 a waymo vehicle bumped a bus while going 2 miles per hour on may 4 2018 one of waymoâ€™s minivans was involved in a crash with minor injuries in chandler arizona while in autonomous mode but police said waymoâ€™s van was not the â€œviolator vehicleâ€\\x9d in october 2018 a waymo vehicle was involved in a crash that sent a motorcyclist to the hospital with minor injuries but the human driver was at fault now there are dozens of autonomous vehicle companies testing on us streets but next most experienced companies uber and gm cruise are still several million miles behind waymo that doesnâ€™t include miles driven in the semi-autonomous modes that many cars now offer like teslaâ€™s autopilot which are more driver-assistance systems than true self-driving vehicles in the last few years the greatest strides taken in the self-driving industry have been by ride-hailing companies who are devoting an exceptional amount of time and money to develop their own proprietary technologies and in many cases giving members of the public rides in their vehicles in 2017 lyftâ€™s ceo predicted that within five years all their vehicles will be autonomous at a press conference in march 2018 where waymoâ€™s ceo john krafcik announced its ride-hailing program krafcik claimed that the company will be making at least one million trips per day by 2020  can autonomous cars drive better than humans  the biggest safety advantage to an autonomous vehicle is that a robot is not a humanâ€”it is programmed to obey all the rules of the road wonâ€™t speed and canâ€™t be distracted by a text message flickering onto a phone and hypothetically at least avs can also detect what humans canâ€™tâ€”especially at night or in low-light conditionsâ€”and react more quickly to avoid a collision avs are laden with sensors and software that work together to build a complete picture of the road one key technology for avs is lidar or a â€œlight-detecting and rangingâ€\\x9d sensor using millions of lasers lidar draws a real-time 3d image of the environment around the vehicle in addition to lidar radar sensors can measure the size and speed of moving objects and high-definition cameras can actually read signs and signals as the car is traveling it cross-references all this data with gps technology that situates the vehicle within a city and helps to plan its route in addition to the sensors and maps avs run software programs which make real-time decisions about how the car will navigate relative to other vehicles humans or objects in the road engineers can run the cars through simulations but the software also needs to learn from actual driving situations this is why real-world testing on public roads is so important but how av companies gather that information has led to greater concerns about how autonomous vehicles can detect and avoid vulnerable road users like cyclists and people who move slowly and more erratically through streets like seniors and children waymo for example claims its software has been explicitly programmed to recognize cyclists a video that waymo released in 2016 (back when it was still part of google) shows how one of its vehicles detected and stopped for a wrong-way cyclist coming around a corner at night according to a may 2018 report from the information uberâ€™s vehicle did detect herzberg before its fatal tempe crash but the system made a decision not to swerve â€œthe carâ€™s sensors detected the pedestrian who was crossing the street with a bicycle but uberâ€™s software decided it didnâ€™t need to react right awayâ€\\x9d a preliminary report by the national transportation safety board (ntsb) confirmed that not only had uber disabled the volvo suvâ€™s collision-avoidance feature uberâ€™s own system detected herzberg six seconds before the crash and did not brake until 13 seconds before impact however arizona prosecutors did not charge uber writing in a letter that â€œthere is no basis for criminal liability for the uber corporation arising from this matterâ€\\x9d uberâ€™s self-driving unit arizona announced it was closing down on may 23 2018 in july uber eliminated 100 self-driving positions in pittsburgh and san francisco uberâ€™s self-driving program has since returned to pittsburgh where it is limiting testing to daylight hours the role of human â€œbackup driversâ€\\x9d as part of av testing has also come into question after tempe police documents obtained by gizmodo showed that driver rafaela vasquez was streaming a video on her phone at the time of uberâ€™s fatal crash â€œthe driver in this case could have reacted and brought the vehicle to a stop 4261 feet prior to the pedestrianâ€\\x9d reads the report which calls the crash â€œentirely avoidableâ€\\x9d in november 2019 the final ntsb report attributed the crash to human error but placed much of the blame on vasquez at the ntsb hearing board members also criticized the federal government for safety regulations that are too lax self-driving companies also put their vehicles through endless tests using simulated city streets many traditional automakers use a facility named m city in ann arbor michigan but the larger self-driving companies have built their own fake cities specifically to test interactions with humans who are not in vehicles waymoâ€™s fake city named castle even has a shed full of propsâ€”like tricyclesâ€”that might be used by people on streets so that waymoâ€™s engineers can learn how to identify them after uberâ€™s fatal crash toyota built a new facility to test its vehiclesâ€™ responses to â€œedge casesâ€\\x9dâ€”extreme situations too dangerous to test on public streets   usdot has been testing autonomous technology at the m city facility for many years m city  will eliminating human drivers reduce traffic deaths  50 years ago the usâ€™s rate of traffic deaths was higher than they are nowâ€”in 1980 generally considered to be the deadliest year on us streets over 50000 people were killed with safety features like airbags added to vehicles stricter seat belt laws and campaigns that stigmatized drunk driving the rate of deaths went down significantly but over the last few years the us has seen a slight increase in traffic deaths again additionally pedestrian fatalities increased by 27 percent over the last decade while all other traffic fatalities decreased by 14 percent there isnâ€™t agreement for why these deaths are increasing but some experts believe that this is because americans are driving moreâ€”overall vehicle-miles traveled (vmt) reached an all-time high in 2017 using usdotâ€™s claim that 94 percent of crashes are caused by human error it seems like a fairly obvious way to reduce crashes is to reduce the number of humans behind the wheel but itâ€™s not just the number of human drivers that should be reduced the us could also reduce the number of cars on roads to prevent fatalitiesâ€”and autonomous vehicles might be able to help do that too the real safety promise of autonomous vehicles is the fact that these vehicles can be be summoned on-demand routed more efficiently and easily sharedâ€”meaning not just the overall number of single-passenger cars on streets will decline but the number of single-passenger trips will be reduced meaning a reduction in overall miles traveled in addition cities can use automated vehicles to tackle ambitious on-demand transit projects like a proposed initiative to integrate shared self-driving vehicles into the public transit fleet if cities can launch these kind of â€œmicrotransitâ€\\x9d systems that serve as a first-mile/last-mile solution to help get more people to fixed-route public transportation that will also mean fewer people in cars and more people on safer modes of transit according to a 2016 american public transportation association study traveling by public transportation is ten times safer per mile than traveling by car without having to make room for so many cars city streets can be narrowed making even more room for pedestrians and bikes to safely navigate cities in this way autonomous vehicles have a great role to play as part of a vision zero strategy which most major us cities have implemented in order to eliminate traffic deaths   a typical us roadway remade as a safe accessible street filled with autonomous technology from shared taxibots to self-driving buses from nactoâ€™s blueprint for autonomous urbanism nacto  but arenâ€™t human-driven cars safer now too  while residents of only a few cities can summon an av on-demand right now the truth is that much of the safety tech powering self-driving cars is making its way into todayâ€™s cars sophisticated collision-avoidance systems for example which can stop a vehicle if an object or person are detected in its path are already being incorporated into new cars and buses this is why the way the national highway traffic safety administration (nhtsa) tests those kinds of safety innovations is also changing until recently all safety standards were based on historical crash data meaning the government had to track years and years of roadway incidents (and in many cases deaths) before making an official recommendation now technology is advancing so quickly that thereâ€™s not enough time to test every new idea for a decade the government knows it needs to be more nimble in fact thatâ€™s what happened for a recent usdot recommendation that all cars be equipped with vehicle-to-vehicle communication (v2v) a tool which allows cars to â€œtalkâ€\\x9d to each other this recommendation was fast-tracked in 2015 by us transportation secretary anthony foxx after detailed simulations and modeling showed that the benefits were obviousâ€”there was no need to spend years collecting historical data the same type of recommendation might be made for an aspect of autonomous tech once a clear safety benefit has been proven across the self-driving industry a specific feature might become standard on all vehicles   an 8-person autonomous shuttle by navya travels a route at a speed of 15 mph in downtown las vegas keolis  where are self-driving cars being tested  about half of us states allow testing of autonomous vehicles on public roads but regulations for each state vary widely the majority of testing is focused in a handful of states arizona california georgia michigan nevada texas pennsylvania and washington california remains the busiest hub for the av industry there are currently 52 companies testing self-driving technology on the stateâ€™s streets itâ€™s also one of the most heavily regulated markets californiaâ€™s department of motor vehicles requires companies to file for a permit and submit annual reports that include the number of miles driven and any crashes while itâ€™s not necessarily used as a safety metric one performance standard that helps to illustrate how technology is improving is tracking the number of times per self-driving mile that a human driver has to take over which is called a â€œdisengagementâ€\\x9d california dmv records demonstrate that as self-driving programs log more on-road experience they see fewer and fewer disengagements other states donâ€™t require as much documentation as californiaâ€”and theyâ€™re not necessarily required to make any information public arizona for example approved av testing on public roads in 2016 without notifying its residents and didnâ€™t require any reports from companies although after uberâ€™s fatal crash that has changed uber self-driving car  hills snow quirky local driving customs and loose state regulations are some of the reasons uber started testing its self-driving program in pittsburgh ap photo/jared wickerham  does the federal government regulate autonomous vehicles  in 2016 the us government released its long-awaited rules on self-driving vehicles the department of transportationâ€™s 116-page document lists many benefits for bringing technology to market among them improved sustainability productivity and accessibility but the usdot reportâ€™s central promise is that autonomy will pave the way for policies that dramatically improve road safety even president obama made the case for safety in an op-ed that heralded the dawn of the new driverless age right now too many people die on our roadsâ€”35200 last year aloneâ€”with 94 percent of those the result of human error or choice automated vehicles have the potential to save tens of thousands of lives each year and right now for too many senior citizens and americans with disabilities driving isnâ€™t an option automated vehicles could change their lives in order to get cities across the country to start thinking about using autonomy to solve transportation problems usdot hosted the smart city challenge in 2016 which awarded $40 million to columbus ohio to develop a fleet of autonomous transit vehicles as a result of the challenge the 70 cities that competed now have blueprints for how to introduce av tech to their transportation planning under the trump administration much of the legislation proposed has been centered around exemptions for automakers and increasing the number of avs allowed to operate on us streets in fact in september 2017 usdot and nhtsa issued updated av guidelines which carried an even lighter regulatory touch after industry leaders expressed concerns about regulation at the federal level stifling innovation in addition to the 2017 policy statement transportation secretary elaine chao held preliminary hearings about autonomous vehicles where she affirmed the government would not play a heavy-handed role â€œthe market will decide what is the most effective solutionâ€\\x9d she said however the aggressive development of v2vâ€”which experts agree can work to make human-driven cars much safer as autonomous technology comes to marketâ€”has not been made a priority during her leadership on october 4 2018 usdot announced new guidelines to guide development and deployment of avs including the possibility that the department would change its safety standard rules to allow new types of autonomous vehicles to operate on us roads this would mean potentially making exemptions for automakers to produce vehicles without human-centered operating features like steering wheels chao also addressed the fact that public acceptance was a key element for autonomous vehicle adoption â€œcompanies need to step up and address the publicâ€™s concerns about safetyâ€\\x9d she said â€œbecause without public acceptance the full potential of these technologies may never be realizedâ€\\x9d usdotâ€™s lack of regulation was called out as â€œlaughableâ€\\x9d by ntsb board member jennifer homendy during the november 2019 hearings about uberâ€™s fatal crash â€œi actually think that there is a major failing on the federal governmentâ€™s part and the state of arizona because they also didnâ€™t have any standards in place and still donâ€™t for failing to regulate these operationsâ€\\x9d she said in a speech at the consumer electronics show on january 8 2020 chao announced av 40 a new set of voluntary guidelines which reconfirms the federal governmentâ€™s hands-off approach to av regulation the plan was quickly panned by safety advocates including cathy chase president of advocates for highway and auto safety who cited uberâ€™s fatal crash among others in a statement denouncing av 40 â€œdespite these disturbing incidents the agency tasked with ensuring public safety on our roadways has abrogated their responsibility to issue rules requiring minimum performance standards for avsâ€\\x9d   teslaâ€™s autopilot feature one of many driver-assist features which allow control of the vehicle to switch from human to computer can distract drivers or give them a false sense of security the verge  whatâ€™s the difference between semi-autonomous and fully autonomous  thereâ€™s one safety debate that continues to divide the self-driving industry some automakers are still pushing for versions of vehicles which allow control to pass from human to computer offering drivers the ability to toggle between semi-autonomous and fully autonomous modes two fatal tesla crashesâ€”one in 2016 and one in 2018â€”that occurred while the drivers were using the vehicleâ€™s autopilot feature illustrated the dangers of a semi-autonomous mode as the national transportation safety board (ntsb) noted in its report of the 2016 crash semi-autonomous systems give â€œfar more leeway to the driver to divert his attention to something other than drivingâ€\\x9d fully autonomous is the official policy recommendation from the self-driving coalition for safer streets a lobbying group that wants cars to eventually phase out steering wheels and let the software take over 100 percent of the time this completely eliminates the potential for human error in 2018 waymo began conducting fully autonomous testing in arizona without a human safety driver and in 2019 began transporting passengers in fully autonomous vehicles california now allows fully autonomous testing as well but without passengers for now especially after the uber crash san francisco bike advocates worry that the tech isnâ€™t powerful enough to see cyclists the california bicycle coalition started a petition to stop fully autonomous vehicles from being tested on california streets  '"
      ]
     },
     "execution_count": 27,
     "metadata": {},
     "output_type": "execute_result"
    }
   ],
   "source": [
    "df.loc[1]['Content_Parsed_4']"
   ]
  },
  {
   "cell_type": "markdown",
   "metadata": {},
   "source": [
    "5. Stemming and Lemmatization"
   ]
  },
  {
   "cell_type": "code",
   "execution_count": 28,
   "metadata": {},
   "outputs": [
    {
     "data": {
      "text/plain": [
       "'from usher in an era of decrease car ownership to narrow streets and eliminate park lot autonomous vehicles promise to dramatically reshape our cities but after an uber-operated self-driving vehicle strike and kill 49-year-old elaine herzberg who be cross the street with her bike in tempe arizona on march 18 2018 there be more question than ever about the safety of this technology especially as these vehicles be be test more frequently on public streets some argue the safety record for self-driving cars isnâ€™t prove and that itâ€™s unclear whether or not enough test miles have be drive in real-life condition other safety advocate go further and say that driverless cars be introduce a new problem to cities when cities should instead be focus on improve transit and encourage walk and bike instead contentions aside the autonomous revolution be already here although some cities will see its impact sooner than others from las vegas where a navya self-driving minibus scoot slowly along a downtown street to general motorsâ€™ cruise ride-hailing service in san francisco with backup humans in the driverâ€™s seat to waymoâ€™s family-focused chandler arizonaâ€“based pilot program that use no human operators in its chrysler pacifica minivans at all the country be accelerate towards a driverless future while the us government have historically be confident in autonomous vehiclesâ€™ ability to end the epidemic of traffic deaths on our streets there be plenty of concern from opponents of self-driving cars that be make cities think twice before welcome them to their streets   self-driving vehicles may be poise to deliver a future of safer greener streets for all but test the vehicles on todayâ€™s streets be a concern farrells and wsp | parsons brinckerhoff  be autonomous vehicles safe  in 2009 google launch its self-driving project focus on save live and serve people with disabilities in a 2014 video google show blind and elderly riders climb into its custom-designed autonomous vehicles part of the companyâ€™s plan to â€œimprove road safety and help lot of people who canâ€™t driveâ€\\x9d although there be several self-driving project in the country at the time many be develop by government agencies or university labs googleâ€™s project differentiate itself by be public-facing the goal be not to build carsâ€”although google do build its own test prototypesâ€”but to create a self-driving service that would help regular people get around google begin test its vehicles on public streets the very same year the project launch with the reorganization of google into its new parent company alphabet the self-driving program become its own entity waymo almost a decade later waymo remain the clear leader for safe self-driving miles on us streets as of november 2019 waymo have log 10 million self-driven miles make it the leader for self-driven miles on us streets thatâ€™s double the amount of miles waymo have drive in february 2018 in july 2018 waymoâ€™s new electric jaguar i-paces vehicle hit the streets in addition to its chrysler pacifica hybrid minivans accord to waymoâ€™s monthly report its vehicles have be in dozens of crash but cause no serious injuries in 2016 a waymo vehicle bump a bus while go 2 miles per hour on may 4 2018 one of waymoâ€™s minivans be involve in a crash with minor injuries in chandler arizona while in autonomous mode but police say waymoâ€™s van be not the â€œviolator vehicleâ€\\x9d in october 2018 a waymo vehicle be involve in a crash that send a motorcyclist to the hospital with minor injuries but the human driver be at fault now there be dozens of autonomous vehicle company test on us streets but next most experience company uber and gm cruise be still several million miles behind waymo that doesnâ€™t include miles drive in the semi-autonomous modes that many cars now offer like teslaâ€™s autopilot which be more driver-assistance systems than true self-driving vehicles in the last few years the greatest stride take in the self-driving industry have be by ride-hailing company who be devote an exceptional amount of time and money to develop their own proprietary technologies and in many case give members of the public rid in their vehicles in 2017 lyftâ€™s ceo predict that within five years all their vehicles will be autonomous at a press conference in march 2018 where waymoâ€™s ceo john krafcik announce its ride-hailing program krafcik claim that the company will be make at least one million trip per day by 2020  can autonomous cars drive better than humans  the biggest safety advantage to an autonomous vehicle be that a robot be not a humanâ€”it be program to obey all the rule of the road wonâ€™t speed and canâ€™t be distract by a text message flicker onto a phone and hypothetically at least avs can also detect what humans canâ€™tâ€”especially at night or in low-light conditionsâ€”and react more quickly to avoid a collision avs be lade with sensors and software that work together to build a complete picture of the road one key technology for avs be lidar or a â€œlight-detecting and rangingâ€\\x9d sensor use millions of lasers lidar draw a real-time 3d image of the environment around the vehicle in addition to lidar radar sensors can measure the size and speed of move object and high-definition cameras can actually read sign and signal as the car be travel it cross-references all this data with gps technology that situate the vehicle within a city and help to plan its route in addition to the sensors and map avs run software program which make real-time decisions about how the car will navigate relative to other vehicles humans or object in the road engineer can run the cars through simulations but the software also need to learn from actual drive situations this be why real-world test on public roads be so important but how av company gather that information have lead to greater concern about how autonomous vehicles can detect and avoid vulnerable road users like cyclists and people who move slowly and more erratically through streets like seniors and children waymo for example claim its software have be explicitly program to recognize cyclists a video that waymo release in 2016 (back when it be still part of google) show how one of its vehicles detect and stop for a wrong-way cyclist come around a corner at night accord to a may 2018 report from the information uberâ€™s vehicle do detect herzberg before its fatal tempe crash but the system make a decision not to swerve â€œthe carâ€™s sensors detect the pedestrian who be cross the street with a bicycle but uberâ€™s software decide it didnâ€™t need to react right awayâ€\\x9d a preliminary report by the national transportation safety board (ntsb) confirm that not only have uber disable the volvo suvâ€™s collision-avoidance feature uberâ€™s own system detect herzberg six second before the crash and do not brake until 13 second before impact however arizona prosecutors do not charge uber write in a letter that â€œthere be no basis for criminal liability for the uber corporation arise from this matterâ€\\x9d uberâ€™s self-driving unit arizona announce it be close down on may 23 2018 in july uber eliminate 100 self-driving position in pittsburgh and san francisco uberâ€™s self-driving program have since return to pittsburgh where it be limit test to daylight hours the role of human â€œbackup driversâ€\\x9d as part of av test have also come into question after tempe police document obtain by gizmodo show that driver rafaela vasquez be stream a video on her phone at the time of uberâ€™s fatal crash â€œthe driver in this case could have react and bring the vehicle to a stop 4261 feet prior to the pedestrianâ€\\x9d read the report which call the crash â€œentirely avoidableâ€\\x9d in november 2019 the final ntsb report attribute the crash to human error but place much of the blame on vasquez at the ntsb hear board members also criticize the federal government for safety regulations that be too lax self-driving company also put their vehicles through endless test use simulate city streets many traditional automakers use a facility name m city in ann arbor michigan but the larger self-driving company have build their own fake cities specifically to test interactions with humans who be not in vehicles waymoâ€™s fake city name castle even have a shed full of propsâ€”like tricyclesâ€”that might be use by people on streets so that waymoâ€™s engineer can learn how to identify them after uberâ€™s fatal crash toyota build a new facility to test its vehiclesâ€™ responses to â€œedge casesâ€\\x9dâ€”extreme situations too dangerous to test on public streets   usdot have be test autonomous technology at the m city facility for many years m city  will eliminate human drivers reduce traffic deaths  50 years ago the usâ€™s rate of traffic deaths be higher than they be nowâ€”in 1980 generally consider to be the deadliest year on us streets over 50000 people be kill with safety feature like airbags add to vehicles stricter seat belt laws and campaign that stigmatize drink drive the rate of deaths go down significantly but over the last few years the us have see a slight increase in traffic deaths again additionally pedestrian fatalities increase by 27 percent over the last decade while all other traffic fatalities decrease by 14 percent there isnâ€™t agreement for why these deaths be increase but some experts believe that this be because americans be drive moreâ€”overall vehicle-miles travel (vmt) reach an all-time high in 2017 use usdotâ€™s claim that 94 percent of crash be cause by human error it seem like a fairly obvious way to reduce crash be to reduce the number of humans behind the wheel but itâ€™s not just the number of human drivers that should be reduce the us could also reduce the number of cars on roads to prevent fatalitiesâ€”and autonomous vehicles might be able to help do that too the real safety promise of autonomous vehicles be the fact that these vehicles can be be summon on-demand rout more efficiently and easily sharedâ€”meaning not just the overall number of single-passenger cars on streets will decline but the number of single-passenger trip will be reduce mean a reduction in overall miles travel in addition cities can use automate vehicles to tackle ambitious on-demand transit project like a propose initiative to integrate share self-driving vehicles into the public transit fleet if cities can launch these kind of â€œmicrotransitâ€\\x9d systems that serve as a first-mile/last-mile solution to help get more people to fixed-route public transportation that will also mean fewer people in cars and more people on safer modes of transit accord to a 2016 american public transportation association study travel by public transportation be ten time safer per mile than travel by car without have to make room for so many cars city streets can be narrow make even more room for pedestrians and bike to safely navigate cities in this way autonomous vehicles have a great role to play as part of a vision zero strategy which most major us cities have implement in order to eliminate traffic deaths   a typical us roadway remake as a safe accessible street fill with autonomous technology from share taxibots to self-driving bus from nactoâ€™s blueprint for autonomous urbanism nacto  but arenâ€™t human-driven cars safer now too  while residents of only a few cities can summon an av on-demand right now the truth be that much of the safety tech power self-driving cars be make its way into todayâ€™s cars sophisticate collision-avoidance systems for example which can stop a vehicle if an object or person be detect in its path be already be incorporate into new cars and bus this be why the way the national highway traffic safety administration (nhtsa) test those kinds of safety innovations be also change until recently all safety standards be base on historical crash data mean the government have to track years and years of roadway incidents (and in many case deaths) before make an official recommendation now technology be advance so quickly that thereâ€™s not enough time to test every new idea for a decade the government know it need to be more nimble in fact thatâ€™s what happen for a recent usdot recommendation that all cars be equip with vehicle-to-vehicle communication (v2v) a tool which allow cars to â€œtalkâ€\\x9d to each other this recommendation be fast-tracked in 2015 by us transportation secretary anthony foxx after detail simulations and model show that the benefit be obviousâ€”there be no need to spend years collect historical data the same type of recommendation might be make for an aspect of autonomous tech once a clear safety benefit have be prove across the self-driving industry a specific feature might become standard on all vehicles   an 8-person autonomous shuttle by navya travel a route at a speed of 15 mph in downtown las vegas keolis  where be self-driving cars be test  about half of us state allow test of autonomous vehicles on public roads but regulations for each state vary widely the majority of test be focus in a handful of state arizona california georgia michigan nevada texas pennsylvania and washington california remain the busiest hub for the av industry there be currently 52 company test self-driving technology on the stateâ€™s streets itâ€™s also one of the most heavily regulate market californiaâ€™s department of motor vehicles require company to file for a permit and submit annual report that include the number of miles drive and any crash while itâ€™s not necessarily use as a safety metric one performance standard that help to illustrate how technology be improve be track the number of time per self-driving mile that a human driver have to take over which be call a â€œdisengagementâ€\\x9d california dmv record demonstrate that as self-driving program log more on-road experience they see fewer and fewer disengagements other state donâ€™t require as much documentation as californiaâ€”and theyâ€™re not necessarily require to make any information public arizona for example approve av test on public roads in 2016 without notify its residents and didnâ€™t require any report from company although after uberâ€™s fatal crash that have change uber self-driving car  hill snow quirky local drive customs and loose state regulations be some of the reason uber start test its self-driving program in pittsburgh ap photo/jared wickerham  do the federal government regulate autonomous vehicles  in 2016 the us government release its long-awaited rule on self-driving vehicles the department of transportationâ€™s 116-page document list many benefit for bring technology to market among them improve sustainability productivity and accessibility but the usdot reportâ€™s central promise be that autonomy will pave the way for policies that dramatically improve road safety even president obama make the case for safety in an op-ed that herald the dawn of the new driverless age right now too many people die on our roadsâ€”35200 last year aloneâ€”with 94 percent of those the result of human error or choice automate vehicles have the potential to save tens of thousands of live each year and right now for too many senior citizens and americans with disabilities drive isnâ€™t an option automate vehicles could change their live in order to get cities across the country to start think about use autonomy to solve transportation problems usdot host the smart city challenge in 2016 which award $40 million to columbus ohio to develop a fleet of autonomous transit vehicles as a result of the challenge the 70 cities that compete now have blueprint for how to introduce av tech to their transportation plan under the trump administration much of the legislation propose have be center around exemptions for automakers and increase the number of avs allow to operate on us streets in fact in september 2017 usdot and nhtsa issue update av guidelines which carry an even lighter regulatory touch after industry leaders express concern about regulation at the federal level stifle innovation in addition to the 2017 policy statement transportation secretary elaine chao hold preliminary hear about autonomous vehicles where she affirm the government would not play a heavy-handed role â€œthe market will decide what be the most effective solutionâ€\\x9d she say however the aggressive development of v2vâ€”which experts agree can work to make human-driven cars much safer as autonomous technology come to marketâ€”has not be make a priority during her leadership on october 4 2018 usdot announce new guidelines to guide development and deployment of avs include the possibility that the department would change its safety standard rule to allow new type of autonomous vehicles to operate on us roads this would mean potentially make exemptions for automakers to produce vehicles without human-centered operate feature like steer wheel chao also address the fact that public acceptance be a key element for autonomous vehicle adoption â€œcompanies need to step up and address the publicâ€™s concern about safetyâ€\\x9d she say â€œbecause without public acceptance the full potential of these technologies may never be realizedâ€\\x9d usdotâ€™s lack of regulation be call out as â€œlaughableâ€\\x9d by ntsb board member jennifer homendy during the november 2019 hear about uberâ€™s fatal crash â€œi actually think that there be a major fail on the federal governmentâ€™s part and the state of arizona because they also didnâ€™t have any standards in place and still donâ€™t for fail to regulate these operationsâ€\\x9d she say in a speech at the consumer electronics show on january 8 2020 chao announce av 40 a new set of voluntary guidelines which reconfirm the federal governmentâ€™s hands-off approach to av regulation the plan be quickly pan by safety advocate include cathy chase president of advocate for highway and auto safety who cite uberâ€™s fatal crash among others in a statement denounce av 40 â€œdespite these disturb incidents the agency task with ensure public safety on our roadways have abrogate their responsibility to issue rule require minimum performance standards for avsâ€\\x9d   teslaâ€™s autopilot feature one of many driver-assist feature which allow control of the vehicle to switch from human to computer can distract drivers or give them a false sense of security the verge  whatâ€™s the difference between semi-autonomous and fully autonomous  thereâ€™s one safety debate that continue to divide the self-driving industry some automakers be still push for versions of vehicles which allow control to pass from human to computer offer drivers the ability to toggle between semi-autonomous and fully autonomous modes two fatal tesla crashesâ€”one in 2016 and one in 2018â€”that occur while the drivers be use the vehicleâ€™s autopilot feature illustrate the dangers of a semi-autonomous mode as the national transportation safety board (ntsb) note in its report of the 2016 crash semi-autonomous systems give â€œfar more leeway to the driver to divert his attention to something other than drivingâ€\\x9d fully autonomous be the official policy recommendation from the self-driving coalition for safer streets a lobby group that want cars to eventually phase out steer wheel and let the software take over 100 percent of the time this completely eliminate the potential for human error in 2018 waymo begin conduct fully autonomous test in arizona without a human safety driver and in 2019 begin transport passengers in fully autonomous vehicles california now allow fully autonomous test as well but without passengers for now especially after the uber crash san francisco bike advocate worry that the tech isnâ€™t powerful enough to see cyclists the california bicycle coalition start a petition to stop fully autonomous vehicles from be test on california streets  '"
      ]
     },
     "execution_count": 28,
     "metadata": {},
     "output_type": "execute_result"
    }
   ],
   "source": [
    "df.loc[1]['Content_Parsed_5']"
   ]
  },
  {
   "cell_type": "markdown",
   "metadata": {},
   "source": [
    "6. Stop words"
   ]
  },
  {
   "cell_type": "code",
   "execution_count": 29,
   "metadata": {},
   "outputs": [
    {
     "data": {
      "text/plain": [
       "' usher   era  decrease car ownership  narrow streets  eliminate park lot autonomous vehicles promise  dramatically reshape  cities    uber-operated self-driving vehicle strike  kill 49-year-old elaine herzberg   cross  street   bike  tempe arizona  march 18 2018    question  ever   safety   technology especially   vehicles   test  frequently  public streets  argue  safety record  self-driving cars isnâ€™ prove   itâ€™ unclear whether   enough test miles   drive  real-life condition  safety advocate go   say  driverless cars  introduce  new problem  cities  cities  instead  focus  improve transit  encourage walk  bike instead contentions aside  autonomous revolution  already  although  cities  see  impact sooner  others  las vegas   navya self-driving minibus scoot slowly along  downtown street  general motorsâ€™ cruise ride-hailing service  san francisco  backup humans   driverâ€™ seat  waymoâ€™ family-focused chandler arizonaâ€“based pilot program  use  human operators   chrysler pacifica minivans    country  accelerate towards  driverless future   us government  historically  confident  autonomous vehiclesâ€™ ability  end  epidemic  traffic deaths   streets   plenty  concern  opponents  self-driving cars   make cities think twice  welcome    streets   self-driving vehicles may  poise  deliver  future  safer greener streets    test  vehicles  todayâ€™ streets   concern farrells  wsp | parsons brinckerhoff   autonomous vehicles safe   2009 google launch  self-driving project focus  save live  serve people  disabilities   2014 video google show blind  elderly riders climb   custom-designed autonomous vehicles part   companyâ€™ plan  â€œimprove road safety  help lot  people  canâ€™ driveâ€\\x9d although   several self-driving project   country   time many  develop  government agencies  university labs googleâ€™ project differentiate    public-facing  goal    build carsâ€”although google  build   test prototypesâ€”  create  self-driving service  would help regular people get around google begin test  vehicles  public streets    year  project launch   reorganization  google   new parent company alphabet  self-driving program become   entity waymo almost  decade later waymo remain  clear leader  safe self-driving miles  us streets   november 2019 waymo  log 10 million self-driven miles make   leader  self-driven miles  us streets thatâ€™ double  amount  miles waymo  drive  february 2018  july 2018 waymoâ€™ new electric jaguar -paces vehicle hit  streets  addition   chrysler pacifica hybrid minivans accord  waymoâ€™ monthly report  vehicles    dozens  crash  cause  serious injuries  2016  waymo vehicle bump  bus  go 2 miles per hour  may 4 2018 one  waymoâ€™ minivans  involve   crash  minor injuries  chandler arizona   autonomous mode  police say waymoâ€™ van    â€œviolator vehicleâ€\\x9d  october 2018  waymo vehicle  involve   crash  send  motorcyclist   hospital  minor injuries   human driver   fault    dozens  autonomous vehicle company test  us streets  next  experience company uber  gm cruise  still several million miles behind waymo  doesnâ€™ include miles drive   semi-autonomous modes  many cars  offer like teslaâ€™ autopilot    driver-assistance systems  true self-driving vehicles   last  years  greatest stride take   self-driving industry    ride-hailing company   devote  exceptional amount  time  money  develop   proprietary technologies   many case give members   public rid   vehicles  2017 lyftâ€™ ceo predict  within five years   vehicles   autonomous   press conference  march 2018  waymoâ€™ ceo john krafcik announce  ride-hailing program krafcik claim   company   make  least one million trip per day  2020   autonomous cars drive better  humans   biggest safety advantage   autonomous vehicle    robot    humanâ€”  program  obey   rule   road wonâ€™ speed  canâ€™  distract   text message flicker onto  phone  hypothetically  least avs  also detect  humans canâ€™tâ€”especially  night   low-light conditionsâ€” react  quickly  avoid  collision avs  lade  sensors  software  work together  build  complete picture   road one key technology  avs  lidar   â€œlight-detecting  rangingâ€\\x9d sensor use millions  lasers lidar draw  real-time 3d image   environment around  vehicle  addition  lidar radar sensors  measure  size  speed  move object  high-definition cameras  actually read sign  signal   car  travel  cross-references   data  gps technology  situate  vehicle within  city  help  plan  route  addition   sensors  map avs run software program  make real-time decisions    car  navigate relative   vehicles humans  object   road engineer  run  cars  simulations   software also need  learn  actual drive situations    real-world test  public roads   important   av company gather  information  lead  greater concern   autonomous vehicles  detect  avoid vulnerable road users like cyclists  people  move slowly   erratically  streets like seniors  children waymo  example claim  software   explicitly program  recognize cyclists  video  waymo release  2016 (back    still part  google) show  one   vehicles detect  stop   wrong-way cyclist come around  corner  night accord   may 2018 report   information uberâ€™ vehicle  detect herzberg   fatal tempe crash   system make  decision   swerve â€œthe carâ€™ sensors detect  pedestrian   cross  street   bicycle  uberâ€™ software decide  didnâ€™ need  react right awayâ€\\x9d  preliminary report   national transportation safety board (ntsb) confirm     uber disable  volvo suvâ€™ collision-avoidance feature uberâ€™  system detect herzberg six second   crash    brake  13 second  impact however arizona prosecutors   charge uber write   letter  â€œthere   basis  criminal liability   uber corporation arise   matterâ€\\x9d uberâ€™ self-driving unit arizona announce   close   may 23 2018  july uber eliminate 100 self-driving position  pittsburgh  san francisco uberâ€™ self-driving program  since return  pittsburgh    limit test  daylight hours  role  human â€œbackup driversâ€\\x9d  part  av test  also come  question  tempe police document obtain  gizmodo show  driver rafaela vasquez  stream  video   phone   time  uberâ€™ fatal crash â€œthe driver   case could  react  bring  vehicle   stop 4261 feet prior   pedestrianâ€\\x9d read  report  call  crash â€œentirely avoidableâ€\\x9d  november 2019  final ntsb report attribute  crash  human error  place much   blame  vasquez   ntsb hear board members also criticize  federal government  safety regulations    lax self-driving company also put  vehicles  endless test use simulate city streets many traditional automakers use  facility name  city  ann arbor michigan   larger self-driving company  build   fake cities specifically  test interactions  humans     vehicles waymoâ€™ fake city name castle even   shed full  propsâ€”like tricyclesâ€” might  use  people  streets   waymoâ€™ engineer  learn   identify   uberâ€™ fatal crash toyota build  new facility  test  vehiclesâ€™ responses  â€œedge casesâ€\\x9dâ€”extreme situations  dangerous  test  public streets   usdot   test autonomous technology    city facility  many years  city   eliminate human drivers reduce traffic deaths  50 years ago  usâ€™ rate  traffic deaths  higher    nowâ€” 1980 generally consider    deadliest year  us streets  50000 people  kill  safety feature like airbags add  vehicles stricter seat belt laws  campaign  stigmatize drink drive  rate  deaths go  significantly    last  years  us  see  slight increase  traffic deaths  additionally pedestrian fatalities increase  27 percent   last decade    traffic fatalities decrease  14 percent  isnâ€™ agreement    deaths  increase   experts believe     americans  drive moreâ€”overall vehicle-miles travel (vmt) reach  -time high  2017 use usdotâ€™ claim  94 percent  crash  cause  human error  seem like  fairly obvious way  reduce crash   reduce  number  humans behind  wheel  itâ€™    number  human drivers    reduce  us could also reduce  number  cars  roads  prevent fatalitiesâ€” autonomous vehicles might  able  help     real safety promise  autonomous vehicles   fact   vehicles    summon -demand rout  efficiently  easily sharedâ€”meaning    overall number  single-passenger cars  streets  decline   number  single-passenger trip   reduce mean  reduction  overall miles travel  addition cities  use automate vehicles  tackle ambitious -demand transit project like  propose initiative  integrate share self-driving vehicles   public transit fleet  cities  launch  kind  â€œmicrotransitâ€\\x9d systems  serve   first-mile/last-mile solution  help get  people  fixed-route public transportation   also mean fewer people  cars   people  safer modes  transit accord   2016 american public transportation association study travel  public transportation  ten time safer per mile  travel  car without   make room   many cars city streets   narrow make even  room  pedestrians  bike  safely navigate cities   way autonomous vehicles   great role  play  part   vision zero strategy   major us cities  implement  order  eliminate traffic deaths    typical us roadway remake   safe accessible street fill  autonomous technology  share taxibots  self-driving bus  nactoâ€™ blueprint  autonomous urbanism nacto   arenâ€™ human-driven cars safer     residents     cities  summon  av -demand right   truth   much   safety tech power self-driving cars  make  way  todayâ€™ cars sophisticate collision-avoidance systems  example   stop  vehicle   object  person  detect   path  already  incorporate  new cars  bus     way  national highway traffic safety administration (nhtsa) test  kinds  safety innovations  also change  recently  safety standards  base  historical crash data mean  government   track years  years  roadway incidents (  many case deaths)  make  official recommendation  technology  advance  quickly  thereâ€™  enough time  test every new idea   decade  government know  need    nimble  fact thatâ€™  happen   recent usdot recommendation   cars  equip  vehicle--vehicle communication (v2v)  tool  allow cars  â€œtalkâ€\\x9d     recommendation  fast-tracked  2015  us transportation secretary anthony foxx  detail simulations  model show   benefit  obviousâ€”   need  spend years collect historical data   type  recommendation might  make   aspect  autonomous tech   clear safety benefit   prove across  self-driving industry  specific feature might become standard   vehicles    8-person autonomous shuttle  navya travel  route   speed  15 mph  downtown las vegas keolis    self-driving cars  test   half  us state allow test  autonomous vehicles  public roads  regulations   state vary widely  majority  test  focus   handful  state arizona california georgia michigan nevada texas pennsylvania  washington california remain  busiest hub   av industry   currently 52 company test self-driving technology   stateâ€™ streets itâ€™ also one    heavily regulate market californiaâ€™ department  motor vehicles require company  file   permit  submit annual report  include  number  miles drive   crash  itâ€™  necessarily use   safety metric one performance standard  help  illustrate  technology  improve  track  number  time per self-driving mile   human driver   take    call  â€œdisengagementâ€\\x9d california dmv record demonstrate   self-driving program log  -road experience  see fewer  fewer disengagements  state donâ€™ require  much documentation  californiaâ€” theyâ€™  necessarily require  make  information public arizona  example approve av test  public roads  2016 without notify  residents  didnâ€™ require  report  company although  uberâ€™ fatal crash   change uber self-driving car  hill snow quirky local drive customs  loose state regulations     reason uber start test  self-driving program  pittsburgh ap photo/jared wickerham    federal government regulate autonomous vehicles   2016  us government release  long-awaited rule  self-driving vehicles  department  transportationâ€™ 116-page document list many benefit  bring technology  market among  improve sustainability productivity  accessibility   usdot reportâ€™ central promise   autonomy  pave  way  policies  dramatically improve road safety even president obama make  case  safety   op-ed  herald  dawn   new driverless age right   many people die   roadsâ€”35200 last year aloneâ€” 94 percent    result  human error  choice automate vehicles   potential  save tens  thousands  live  year  right    many senior citizens  americans  disabilities drive isnâ€™  option automate vehicles could change  live  order  get cities across  country  start think  use autonomy  solve transportation problems usdot host  smart city challenge  2016  award $40 million  columbus ohio  develop  fleet  autonomous transit vehicles   result   challenge  70 cities  compete   blueprint    introduce av tech   transportation plan   trump administration much   legislation propose   center around exemptions  automakers  increase  number  avs allow  operate  us streets  fact  september 2017 usdot  nhtsa issue update av guidelines  carry  even lighter regulatory touch  industry leaders express concern  regulation   federal level stifle innovation  addition   2017 policy statement transportation secretary elaine chao hold preliminary hear  autonomous vehicles   affirm  government would  play  heavy-handed role â€œthe market  decide     effective solutionâ€\\x9d  say however  aggressive development  v2vâ€” experts agree  work  make human-driven cars much safer  autonomous technology come  marketâ€”   make  priority   leadership  october 4 2018 usdot announce new guidelines  guide development  deployment  avs include  possibility   department would change  safety standard rule  allow new type  autonomous vehicles  operate  us roads  would mean potentially make exemptions  automakers  produce vehicles without human-centered operate feature like steer wheel chao also address  fact  public acceptance   key element  autonomous vehicle adoption â€œcompanies need  step   address  publicâ€™ concern  safetyâ€\\x9d  say â€œbecause without public acceptance  full potential   technologies may never  realizedâ€\\x9d usdotâ€™ lack  regulation  call   â€œlaughableâ€\\x9d  ntsb board member jennifer homendy   november 2019 hear  uberâ€™ fatal crash â€œi actually think     major fail   federal governmentâ€™ part   state  arizona   also didnâ€™   standards  place  still donâ€™  fail  regulate  operationsâ€\\x9d  say   speech   consumer electronics show  january 8 2020 chao announce av 40  new set  voluntary guidelines  reconfirm  federal governmentâ€™ hands- approach  av regulation  plan  quickly pan  safety advocate include cathy chase president  advocate  highway  auto safety  cite uberâ€™ fatal crash among others   statement denounce av 40 â€œdespite  disturb incidents  agency task  ensure public safety   roadways  abrogate  responsibility  issue rule require minimum performance standards  avsâ€\\x9d   teslaâ€™ autopilot feature one  many driver-assist feature  allow control   vehicle  switch  human  computer  distract drivers  give   false sense  security  verge  whatâ€™  difference  semi-autonomous  fully autonomous  thereâ€™ one safety debate  continue  divide  self-driving industry  automakers  still push  versions  vehicles  allow control  pass  human  computer offer drivers  ability  toggle  semi-autonomous  fully autonomous modes two fatal tesla crashesâ€”one  2016  one  2018â€” occur   drivers  use  vehicleâ€™ autopilot feature illustrate  dangers   semi-autonomous mode   national transportation safety board (ntsb) note   report   2016 crash semi-autonomous systems give â€œfar  leeway   driver  divert  attention  something   drivingâ€\\x9d fully autonomous   official policy recommendation   self-driving coalition  safer streets  lobby group  want cars  eventually phase  steer wheel  let  software take  100 percent   time  completely eliminate  potential  human error  2018 waymo begin conduct fully autonomous test  arizona without  human safety driver   2019 begin transport passengers  fully autonomous vehicles california  allow fully autonomous test  well  without passengers   especially   uber crash san francisco bike advocate worry   tech isnâ€™ powerful enough  see cyclists  california bicycle coalition start  petition  stop fully autonomous vehicles   test  california streets  '"
      ]
     },
     "execution_count": 29,
     "metadata": {},
     "output_type": "execute_result"
    }
   ],
   "source": [
    "df.loc[1]['Content_Parsed_6']"
   ]
  },
  {
   "cell_type": "markdown",
   "metadata": {},
   "source": [
    "Finally, we can delete the intermediate columns:"
   ]
  },
  {
   "cell_type": "code",
   "execution_count": 30,
   "metadata": {},
   "outputs": [
    {
     "data": {
      "text/html": [
       "<div>\n",
       "<style scoped>\n",
       "    .dataframe tbody tr th:only-of-type {\n",
       "        vertical-align: middle;\n",
       "    }\n",
       "\n",
       "    .dataframe tbody tr th {\n",
       "        vertical-align: top;\n",
       "    }\n",
       "\n",
       "    .dataframe thead th {\n",
       "        text-align: right;\n",
       "    }\n",
       "</style>\n",
       "<table border=\"1\" class=\"dataframe\">\n",
       "  <thead>\n",
       "    <tr style=\"text-align: right;\">\n",
       "      <th></th>\n",
       "      <th>File_Name</th>\n",
       "      <th>Content</th>\n",
       "      <th>Category</th>\n",
       "      <th>Complete_Filename</th>\n",
       "      <th>id</th>\n",
       "      <th>News_length</th>\n",
       "      <th>Content_Parsed_1</th>\n",
       "      <th>Content_Parsed_2</th>\n",
       "      <th>Content_Parsed_3</th>\n",
       "      <th>Content_Parsed_4</th>\n",
       "      <th>Content_Parsed_5</th>\n",
       "      <th>Content_Parsed_6</th>\n",
       "    </tr>\n",
       "  </thead>\n",
       "  <tbody>\n",
       "    <tr>\n",
       "      <th>0</th>\n",
       "      <td>Lahari_Assg1.txt</td>\n",
       "      <td>Ask nine futurists what life will be like in 5...</td>\n",
       "      <td>Alto</td>\n",
       "      <td>Lahari_Assg1.txt-Alto</td>\n",
       "      <td>1</td>\n",
       "      <td>8327</td>\n",
       "      <td>Ask nine futurists what life will be like in 5...</td>\n",
       "      <td>ask nine futurists what life will be like in 5...</td>\n",
       "      <td>ask nine futurists what life will be like in 5...</td>\n",
       "      <td>ask nine futurists what life will be like in 5...</td>\n",
       "      <td>ask nine futurists what life will be like in 5...</td>\n",
       "      <td>ask nine futurists  life   like  50 years  ' l...</td>\n",
       "    </tr>\n",
       "  </tbody>\n",
       "</table>\n",
       "</div>"
      ],
      "text/plain": [
       "          File_Name                                            Content  \\\n",
       "0  Lahari_Assg1.txt  Ask nine futurists what life will be like in 5...   \n",
       "\n",
       "  Category      Complete_Filename  id  News_length  \\\n",
       "0     Alto  Lahari_Assg1.txt-Alto   1         8327   \n",
       "\n",
       "                                    Content_Parsed_1  \\\n",
       "0  Ask nine futurists what life will be like in 5...   \n",
       "\n",
       "                                    Content_Parsed_2  \\\n",
       "0  ask nine futurists what life will be like in 5...   \n",
       "\n",
       "                                    Content_Parsed_3  \\\n",
       "0  ask nine futurists what life will be like in 5...   \n",
       "\n",
       "                                    Content_Parsed_4  \\\n",
       "0  ask nine futurists what life will be like in 5...   \n",
       "\n",
       "                                    Content_Parsed_5  \\\n",
       "0  ask nine futurists what life will be like in 5...   \n",
       "\n",
       "                                    Content_Parsed_6  \n",
       "0  ask nine futurists  life   like  50 years  ' l...  "
      ]
     },
     "execution_count": 30,
     "metadata": {},
     "output_type": "execute_result"
    }
   ],
   "source": [
    "df.head(1)"
   ]
  },
  {
   "cell_type": "code",
   "execution_count": 31,
   "metadata": {},
   "outputs": [],
   "source": [
    "list_columns = [\"File_Name\", \"Category\", \"Content\", \"Content_Parsed_6\"]\n",
    "df = df[list_columns]\n",
    "\n",
    "df = df.rename(columns={'Content_Parsed_6': 'Content_Parsed'})"
   ]
  },
  {
   "cell_type": "code",
   "execution_count": 32,
   "metadata": {
    "scrolled": true
   },
   "outputs": [
    {
     "data": {
      "text/html": [
       "<div>\n",
       "<style scoped>\n",
       "    .dataframe tbody tr th:only-of-type {\n",
       "        vertical-align: middle;\n",
       "    }\n",
       "\n",
       "    .dataframe tbody tr th {\n",
       "        vertical-align: top;\n",
       "    }\n",
       "\n",
       "    .dataframe thead th {\n",
       "        text-align: right;\n",
       "    }\n",
       "</style>\n",
       "<table border=\"1\" class=\"dataframe\">\n",
       "  <thead>\n",
       "    <tr style=\"text-align: right;\">\n",
       "      <th></th>\n",
       "      <th>File_Name</th>\n",
       "      <th>Category</th>\n",
       "      <th>Content</th>\n",
       "      <th>Content_Parsed</th>\n",
       "    </tr>\n",
       "  </thead>\n",
       "  <tbody>\n",
       "    <tr>\n",
       "      <th>0</th>\n",
       "      <td>Lahari_Assg1.txt</td>\n",
       "      <td>Alto</td>\n",
       "      <td>Ask nine futurists what life will be like in 5...</td>\n",
       "      <td>ask nine futurists  life   like  50 years  ' l...</td>\n",
       "    </tr>\n",
       "    <tr>\n",
       "      <th>1</th>\n",
       "      <td>Lahari_Assg2.txt</td>\n",
       "      <td>Ferrari</td>\n",
       "      <td>From ushering in an era of decreased car owner...</td>\n",
       "      <td>usher   era  decrease car ownership  narrow s...</td>\n",
       "    </tr>\n",
       "  </tbody>\n",
       "</table>\n",
       "</div>"
      ],
      "text/plain": [
       "          File_Name Category  \\\n",
       "0  Lahari_Assg1.txt     Alto   \n",
       "1  Lahari_Assg2.txt  Ferrari   \n",
       "\n",
       "                                             Content  \\\n",
       "0  Ask nine futurists what life will be like in 5...   \n",
       "1  From ushering in an era of decreased car owner...   \n",
       "\n",
       "                                      Content_Parsed  \n",
       "0  ask nine futurists  life   like  50 years  ' l...  \n",
       "1   usher   era  decrease car ownership  narrow s...  "
      ]
     },
     "execution_count": 32,
     "metadata": {},
     "output_type": "execute_result"
    }
   ],
   "source": [
    "df.head()"
   ]
  },
  {
   "cell_type": "markdown",
   "metadata": {},
   "source": [
    "**IMPORTANT:**\n",
    "\n",
    "We need to remember that our model will gather the latest news articles from different newspapers every time we want. For that reason, we not only need to take into account the peculiarities of the training set articles, but also possible ones that are present in the gathered news articles.\n",
    "\n",
    "For this reason, possible peculiarities have been studied in the *05. News Scraping* folder."
   ]
  },
  {
   "cell_type": "markdown",
   "metadata": {},
   "source": [
    "## 2. Label coding"
   ]
  },
  {
   "cell_type": "markdown",
   "metadata": {},
   "source": [
    "We'll create a dictionary with the label codification:"
   ]
  },
  {
   "cell_type": "code",
   "execution_count": 33,
   "metadata": {},
   "outputs": [],
   "source": [
    "category_codes = {\n",
    "    'business': 0,\n",
    "    'entertainment': 1,\n",
    "    'politics': 2,\n",
    "    'sport': 3,\n",
    "    'tech': 4\n",
    "}"
   ]
  },
  {
   "cell_type": "code",
   "execution_count": 34,
   "metadata": {},
   "outputs": [],
   "source": [
    "# Category mapping\n",
    "df['Category_Code'] = df['Category']\n",
    "df = df.replace({'Category_Code':category_codes})"
   ]
  },
  {
   "cell_type": "code",
   "execution_count": 35,
   "metadata": {
    "scrolled": true
   },
   "outputs": [
    {
     "data": {
      "text/html": [
       "<div>\n",
       "<style scoped>\n",
       "    .dataframe tbody tr th:only-of-type {\n",
       "        vertical-align: middle;\n",
       "    }\n",
       "\n",
       "    .dataframe tbody tr th {\n",
       "        vertical-align: top;\n",
       "    }\n",
       "\n",
       "    .dataframe thead th {\n",
       "        text-align: right;\n",
       "    }\n",
       "</style>\n",
       "<table border=\"1\" class=\"dataframe\">\n",
       "  <thead>\n",
       "    <tr style=\"text-align: right;\">\n",
       "      <th></th>\n",
       "      <th>File_Name</th>\n",
       "      <th>Category</th>\n",
       "      <th>Content</th>\n",
       "      <th>Content_Parsed</th>\n",
       "      <th>Category_Code</th>\n",
       "    </tr>\n",
       "  </thead>\n",
       "  <tbody>\n",
       "    <tr>\n",
       "      <th>0</th>\n",
       "      <td>Lahari_Assg1.txt</td>\n",
       "      <td>Alto</td>\n",
       "      <td>Ask nine futurists what life will be like in 5...</td>\n",
       "      <td>ask nine futurists  life   like  50 years  ' l...</td>\n",
       "      <td>Alto</td>\n",
       "    </tr>\n",
       "    <tr>\n",
       "      <th>1</th>\n",
       "      <td>Lahari_Assg2.txt</td>\n",
       "      <td>Ferrari</td>\n",
       "      <td>From ushering in an era of decreased car owner...</td>\n",
       "      <td>usher   era  decrease car ownership  narrow s...</td>\n",
       "      <td>Ferrari</td>\n",
       "    </tr>\n",
       "  </tbody>\n",
       "</table>\n",
       "</div>"
      ],
      "text/plain": [
       "          File_Name Category  \\\n",
       "0  Lahari_Assg1.txt     Alto   \n",
       "1  Lahari_Assg2.txt  Ferrari   \n",
       "\n",
       "                                             Content  \\\n",
       "0  Ask nine futurists what life will be like in 5...   \n",
       "1  From ushering in an era of decreased car owner...   \n",
       "\n",
       "                                      Content_Parsed Category_Code  \n",
       "0  ask nine futurists  life   like  50 years  ' l...          Alto  \n",
       "1   usher   era  decrease car ownership  narrow s...       Ferrari  "
      ]
     },
     "execution_count": 35,
     "metadata": {},
     "output_type": "execute_result"
    }
   ],
   "source": [
    "df.head()"
   ]
  },
  {
   "cell_type": "markdown",
   "metadata": {},
   "source": [
    "## 3. Train - test split"
   ]
  },
  {
   "cell_type": "markdown",
   "metadata": {},
   "source": [
    "We'll set apart a test set to prove the quality of our models. We'll do Cross Validation in the train set in order to tune the hyperparameters and then test performance on the unseen data of the test set."
   ]
  },
  {
   "cell_type": "code",
   "execution_count": 36,
   "metadata": {},
   "outputs": [],
   "source": [
    "X_train, X_test, y_train, y_test = train_test_split(df['Content_Parsed'], \n",
    "                                                    df['Category_Code'], \n",
    "                                                    test_size=0.15, \n",
    "                                                    random_state=8)"
   ]
  },
  {
   "cell_type": "markdown",
   "metadata": {},
   "source": [
    "Since we don't have much observations (only 2.225), we'll choose a test set size of 15% of the full dataset."
   ]
  },
  {
   "cell_type": "markdown",
   "metadata": {},
   "source": [
    "## 4. Text representation"
   ]
  },
  {
   "cell_type": "markdown",
   "metadata": {},
   "source": [
    "We have various options:\n",
    "\n",
    "* Count Vectors as features\n",
    "* TF-IDF Vectors as features\n",
    "* Word Embeddings as features\n",
    "* Text / NLP based features\n",
    "* Topic Models as features"
   ]
  },
  {
   "cell_type": "markdown",
   "metadata": {},
   "source": [
    "We'll use **TF-IDF Vectors** as features."
   ]
  },
  {
   "cell_type": "markdown",
   "metadata": {},
   "source": [
    "We have to define the different parameters:\n",
    "\n",
    "* `ngram_range`: We want to consider both unigrams and bigrams.\n",
    "* `max_df`: When building the vocabulary ignore terms that have a document\n",
    "    frequency strictly higher than the given threshold\n",
    "* `min_df`: When building the vocabulary ignore terms that have a document\n",
    "    frequency strictly lower than the given threshold.\n",
    "* `max_features`: If not None, build a vocabulary that only consider the top\n",
    "    max_features ordered by term frequency across the corpus.\n",
    "\n",
    "See `TfidfVectorizer?` for further detail."
   ]
  },
  {
   "cell_type": "markdown",
   "metadata": {},
   "source": [
    "It needs to be mentioned that we are implicitly scaling our data when representing it as TF-IDF features with the argument `norm`."
   ]
  },
  {
   "cell_type": "code",
   "execution_count": 39,
   "metadata": {},
   "outputs": [],
   "source": [
    "# Parameter election\n",
    "ngram_range = (1,2)\n",
    "min_df = 1\n",
    "max_df = 10\n",
    "max_features = 300"
   ]
  },
  {
   "cell_type": "markdown",
   "metadata": {},
   "source": [
    "We have chosen these values as a first approximation. Since the models that we develop later have a very good predictive power, we'll stick to these values. But it has to be mentioned that different combinations could be tried in order to improve even more the accuracy of the models."
   ]
  },
  {
   "cell_type": "code",
   "execution_count": 40,
   "metadata": {
    "scrolled": true
   },
   "outputs": [
    {
     "name": "stdout",
     "output_type": "stream",
     "text": [
      "(1, 300)\n",
      "(1, 300)\n"
     ]
    }
   ],
   "source": [
    "tfidf = TfidfVectorizer(encoding='utf-8',\n",
    "                        ngram_range=ngram_range,\n",
    "                        stop_words=None,\n",
    "                        lowercase=False,\n",
    "                        max_df=max_df,\n",
    "                        min_df=min_df,\n",
    "                        max_features=max_features,\n",
    "                        norm='',\n",
    "                        sublinear_tf=True)\n",
    "                        \n",
    "features_train = tfidf.fit_transform(X_train).toarray()\n",
    "labels_train = y_train\n",
    "print(features_train.shape)\n",
    "\n",
    "features_test = tfidf.transform(X_test).toarray()\n",
    "labels_test = y_test\n",
    "print(features_test.shape)"
   ]
  },
  {
   "cell_type": "markdown",
   "metadata": {},
   "source": [
    "Please note that we have fitted and then transformed the training set, but we have **only transformed** the **test set**."
   ]
  },
  {
   "cell_type": "markdown",
   "metadata": {},
   "source": [
    "We can use the Chi squared test in order to see what unigrams and bigrams are most correlated with each category:"
   ]
  },
  {
   "cell_type": "code",
   "execution_count": 41,
   "metadata": {},
   "outputs": [
    {
     "name": "stdout",
     "output_type": "stream",
     "text": [
      "# 'business' category:\n",
      "  . Most correlated unigrams:\n",
      ". fatal\n",
      ". fact\n",
      ". facility\n",
      ". even\n",
      ". œthe\n",
      "  . Most correlated bigrams:\n",
      ". fully autonomous\n",
      ". fatal crash\n",
      "\n",
      "# 'entertainment' category:\n",
      "  . Most correlated unigrams:\n",
      ". fatal\n",
      ". fact\n",
      ". facility\n",
      ". even\n",
      ". œthe\n",
      "  . Most correlated bigrams:\n",
      ". fully autonomous\n",
      ". fatal crash\n",
      "\n",
      "# 'politics' category:\n",
      "  . Most correlated unigrams:\n",
      ". fatal\n",
      ". fact\n",
      ". facility\n",
      ". even\n",
      ". œthe\n",
      "  . Most correlated bigrams:\n",
      ". fully autonomous\n",
      ". fatal crash\n",
      "\n",
      "# 'sport' category:\n",
      "  . Most correlated unigrams:\n",
      ". fatal\n",
      ". fact\n",
      ". facility\n",
      ". even\n",
      ". œthe\n",
      "  . Most correlated bigrams:\n",
      ". fully autonomous\n",
      ". fatal crash\n",
      "\n",
      "# 'tech' category:\n",
      "  . Most correlated unigrams:\n",
      ". fatal\n",
      ". fact\n",
      ". facility\n",
      ". even\n",
      ". œthe\n",
      "  . Most correlated bigrams:\n",
      ". fully autonomous\n",
      ". fatal crash\n",
      "\n"
     ]
    }
   ],
   "source": [
    "from sklearn.feature_selection import chi2\n",
    "import numpy as np\n",
    "\n",
    "for Product, category_id in sorted(category_codes.items()):\n",
    "    features_chi2 = chi2(features_train, labels_train == category_id)\n",
    "    indices = np.argsort(features_chi2[0])\n",
    "    feature_names = np.array(tfidf.get_feature_names())[indices]\n",
    "    unigrams = [v for v in feature_names if len(v.split(' ')) == 1]\n",
    "    bigrams = [v for v in feature_names if len(v.split(' ')) == 2]\n",
    "    print(\"# '{}' category:\".format(Product))\n",
    "    print(\"  . Most correlated unigrams:\\n. {}\".format('\\n. '.join(unigrams[-5:])))\n",
    "    print(\"  . Most correlated bigrams:\\n. {}\".format('\\n. '.join(bigrams[-2:])))\n",
    "    print(\"\")\n"
   ]
  },
  {
   "cell_type": "markdown",
   "metadata": {},
   "source": [
    "As we can see, the unigrams correspond well to their category. However, bigrams do not. If we get the bigrams in our features:"
   ]
  },
  {
   "cell_type": "code",
   "execution_count": 42,
   "metadata": {},
   "outputs": [
    {
     "data": {
      "text/plain": [
       "['public transportation',\n",
       " 'public streets',\n",
       " 'public roads',\n",
       " 'real time',\n",
       " 'road safety',\n",
       " 'right many',\n",
       " 'ride hailing',\n",
       " 'reduce number',\n",
       " 'miles us',\n",
       " 'miles travel',\n",
       " 'miles drive',\n",
       " 'november 2019',\n",
       " 'may 2018',\n",
       " 'uberâ fatal',\n",
       " 'transportation secretary',\n",
       " 'transportation safety',\n",
       " 'traffic deaths',\n",
       " 'us streets',\n",
       " 'without human',\n",
       " 'vehicles public',\n",
       " 'vehicles detect',\n",
       " 'test vehicles',\n",
       " 'test self',\n",
       " 'semi autonomous',\n",
       " 'self driving',\n",
       " 'self driven',\n",
       " 'san francisco',\n",
       " 'safety board',\n",
       " 'safety advocate',\n",
       " 'test public',\n",
       " 'cars make',\n",
       " 'crash cause',\n",
       " 'board ntsb',\n",
       " '94 percent',\n",
       " 'autonomous vehicles',\n",
       " 'autonomous vehicle',\n",
       " 'autonomous technology',\n",
       " 'automate vehicles',\n",
       " 'human error',\n",
       " 'human drivers',\n",
       " 'human driver',\n",
       " 'human driven',\n",
       " 'google show',\n",
       " 'many case',\n",
       " 'many cars',\n",
       " 'driving vehicles',\n",
       " 'driving project',\n",
       " 'driving program',\n",
       " 'driving industry',\n",
       " 'driving company',\n",
       " 'driving cars',\n",
       " 'fully autonomous',\n",
       " 'fatal crash']"
      ]
     },
     "execution_count": 42,
     "metadata": {},
     "output_type": "execute_result"
    }
   ],
   "source": [
    "bigrams"
   ]
  },
  {
   "cell_type": "markdown",
   "metadata": {},
   "source": [
    "We can see there are only six. This means the unigrams have more correlation with the category than the bigrams, and since we're restricting the number of features to the most representative 300, only a few bigrams are being considered."
   ]
  },
  {
   "cell_type": "markdown",
   "metadata": {},
   "source": [
    "Let's save the files we'll need in the next steps:"
   ]
  },
  {
   "cell_type": "code",
   "execution_count": 43,
   "metadata": {},
   "outputs": [],
   "source": [
    "# X_train\n",
    "with open('/Users/keerthanareddy/Downloads/Latest-News-Classifier-master/0. Latest News Classifier/03. Feature Engineering/Pickles/X_train.pickle', 'wb') as output:\n",
    "    pickle.dump(X_train, output)\n",
    "    \n",
    "# X_test    \n",
    "with open('/Users/keerthanareddy/Downloads/Latest-News-Classifier-master/0. Latest News Classifier/03. Feature Engineering/Pickles/X_test.pickle', 'wb') as output:\n",
    "    pickle.dump(X_test, output)\n",
    "    \n",
    "# y_train\n",
    "with open('/Users/keerthanareddy/Downloads/Latest-News-Classifier-master/0. Latest News Classifier/03. Feature Engineering/Pickles/y_train.pickle', 'wb') as output:\n",
    "    pickle.dump(y_train, output)\n",
    "    \n",
    "# y_test\n",
    "with open('/Users/keerthanareddy/Downloads/Latest-News-Classifier-master/0. Latest News Classifier/03. Feature Engineering/Pickles/y_test.pickle', 'wb') as output:\n",
    "    pickle.dump(y_test, output)\n",
    "    \n",
    "# df\n",
    "with open('/Users/keerthanareddy/Downloads/Latest-News-Classifier-master/0. Latest News Classifier/03. Feature Engineering/Pickles/df.pickle', 'wb') as output:\n",
    "    pickle.dump(df, output)\n",
    "    \n",
    "# features_train\n",
    "with open('/Users/keerthanareddy/Downloads/Latest-News-Classifier-master/0. Latest News Classifier/03. Feature Engineering/Pickles/features_train.pickle', 'wb') as output:\n",
    "    pickle.dump(features_train, output)\n",
    "\n",
    "# labels_train\n",
    "with open('/Users/keerthanareddy/Downloads/Latest-News-Classifier-master/0. Latest News Classifier/03. Feature Engineering/Pickles/labels_train.pickle', 'wb') as output:\n",
    "    pickle.dump(labels_train, output)\n",
    "\n",
    "# features_test\n",
    "with open('/Users/keerthanareddy/Downloads/Latest-News-Classifier-master/0. Latest News Classifier/03. Feature Engineering/Pickles/features_test.pickle', 'wb') as output:\n",
    "    pickle.dump(features_test, output)\n",
    "\n",
    "# labels_test\n",
    "with open('/Users/keerthanareddy/Downloads/Latest-News-Classifier-master/0. Latest News Classifier/03. Feature Engineering/Pickles/labels_test.pickle', 'wb') as output:\n",
    "    pickle.dump(labels_test, output)\n",
    "    \n",
    "# TF-IDF object\n",
    "with open('/Users/keerthanareddy/Downloads/Latest-News-Classifier-master/0. Latest News Classifier/03. Feature Engineering/Pickles/tfidf.pickle', 'wb') as output:\n",
    "    pickle.dump(tfidf, output)"
   ]
  },
  {
   "cell_type": "code",
   "execution_count": null,
   "metadata": {},
   "outputs": [],
   "source": []
  },
  {
   "cell_type": "code",
   "execution_count": null,
   "metadata": {},
   "outputs": [],
   "source": []
  }
 ],
 "metadata": {
  "kernelspec": {
   "display_name": "Python 3 (ipykernel)",
   "language": "python",
   "name": "python3"
  },
  "language_info": {
   "codemirror_mode": {
    "name": "ipython",
    "version": 3
   },
   "file_extension": ".py",
   "mimetype": "text/x-python",
   "name": "python",
   "nbconvert_exporter": "python",
   "pygments_lexer": "ipython3",
   "version": "3.8.11"
  }
 },
 "nbformat": 4,
 "nbformat_minor": 2
}
